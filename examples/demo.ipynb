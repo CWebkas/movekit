{
 "cells": [
  {
   "cell_type": "markdown",
   "metadata": {},
   "source": [
    "# Example usage for \"movekit\""
   ]
  },
  {
   "cell_type": "code",
   "execution_count": 1,
   "metadata": {},
   "outputs": [],
   "source": [
    "import movekit as mkit"
   ]
  },
  {
   "cell_type": "code",
   "execution_count": 2,
   "metadata": {},
   "outputs": [
    {
     "name": "stdout",
     "output_type": "stream",
     "text": [
      "<module 'movekit' from '/Users/erencakmak/.conda/envs/mo_env/lib/python3.7/site-packages/movekit/__init__.py'>\n"
     ]
    }
   ],
   "source": [
    "print(mkit)"
   ]
  },
  {
   "cell_type": "markdown",
   "metadata": {},
   "source": [
    "### Read in CSV file:"
   ]
  },
  {
   "cell_type": "code",
   "execution_count": 3,
   "metadata": {},
   "outputs": [],
   "source": [
    "# Enter absolute/complete path to CSV file-\n",
    "path_to_file = \"datasets/fish-5.csv\""
   ]
  },
  {
   "cell_type": "code",
   "execution_count": 4,
   "metadata": {},
   "outputs": [
    {
     "name": "stdout",
     "output_type": "stream",
     "text": [
      "\n",
      "WARNING: 'heading_angle' attribute is not found in the given CSV data file. Continuing without it!\n",
      "\n",
      "      time  animal_id       x       y\n",
      "0        1        312  405.29  417.76\n",
      "1        1        511  369.99  428.78\n",
      "2        1        607  390.33  405.89\n",
      "3        1        811  445.15  411.94\n",
      "4        1        905  366.06  451.76\n",
      "9        2        905  365.86  451.76\n",
      "7        2        607  390.25  405.89\n",
      "8        2        811  445.48  412.26\n",
      "5        2        312  405.31  417.37\n",
      "6        2        511  370.01  428.82\n",
      "10       3        312  405.31  417.07\n",
      "11       3        511  370.01  428.85\n",
      "12       3        607  390.17  405.88\n",
      "13       3        811  445.77  412.61\n",
      "14       3        905  365.70  451.76\n",
      "19       4        905  365.57  451.76\n",
      "17       4        607  390.07  405.88\n",
      "18       4        811  446.03  413.00\n",
      "15       4        312  405.30  416.86\n",
      "16       4        511  370.01  428.86\n",
      "20       5        312  405.29  416.71\n",
      "21       5        511  369.99  428.86\n",
      "22       5        607  389.98  405.87\n",
      "23       5        811  446.24  413.42\n",
      "24       5        905  365.47  451.76\n",
      "27       6        607  389.88  405.87\n",
      "29       6        905  365.39  451.76\n",
      "28       6        811  446.42  413.86\n",
      "26       6        511  369.98  428.84\n",
      "25       6        312  405.27  416.61\n",
      "...    ...        ...     ...     ...\n",
      "4974   995        905  667.30  170.74\n",
      "4973   995        811  761.02  307.69\n",
      "4970   995        312  711.78  233.79\n",
      "4971   995        511  658.91  214.82\n",
      "4972   995        607  716.47  290.20\n",
      "4975   996        312  713.75  236.00\n",
      "4976   996        511  659.92  217.74\n",
      "4977   996        607  717.42  291.05\n",
      "4978   996        811  761.31  307.65\n",
      "4979   996        905  669.18  173.24\n",
      "4983   997        811  761.56  307.65\n",
      "4984   997        905  671.22  176.02\n",
      "4981   997        511  660.76  220.15\n",
      "4980   997        312  715.71  238.19\n",
      "4982   997        607  718.52  292.11\n",
      "4985   998        312  717.57  240.33\n",
      "4986   998        511  661.42  222.03\n",
      "4987   998        607  719.85  293.38\n",
      "4988   998        811  761.86  307.65\n",
      "4989   998        905  673.38  178.90\n",
      "4994   999        905  675.59  181.86\n",
      "4993   999        811  762.12  307.65\n",
      "4991   999        511  662.00  223.73\n",
      "4990   999        312  719.33  242.48\n",
      "4992   999        607  721.25  294.79\n",
      "4998  1000        811  762.44  307.61\n",
      "4995  1000        312  720.96  244.60\n",
      "4996  1000        511  662.56  225.29\n",
      "4997  1000        607  722.75  296.34\n",
      "4999  1000        905  677.91  185.05\n",
      "\n",
      "[5000 rows x 4 columns]\n"
     ]
    }
   ],
   "source": [
    "# Read in CSV file using 'path_to_file' variable-\n",
    "data = mkit.parse_csv(path_to_file)\n",
    "print(data)"
   ]
  },
  {
   "cell_type": "markdown",
   "metadata": {},
   "source": [
    "### Grouping data according to 'animal_id' attribute-\n",
    "- 'grouping_data' function groups all values for each 'animal_id'.\n",
    "- The input parameter is 'processed_data' which is the processed Pandas DataFrame\n",
    "- The function returns a dictionary where-:\n",
    "- key is animal_id, value in Pandas DataFrame for that 'animal_id'"
   ]
  },
  {
   "cell_type": "code",
   "execution_count": null,
   "metadata": {},
   "outputs": [],
   "source": [
    "# To group data according to 'animal_id' attribute-\n",
    "data_grouped = movekit.preprocess.grouping_data(data)"
   ]
  },
  {
   "cell_type": "markdown",
   "metadata": {},
   "source": [
    "### Calculate absolute features: metric distance, direction, avg_speed, avg_acceleration \n",
    "- Calculate the metric distance and direction between two consecutive time frames/time stamps for each moving entity (animals)\n",
    "- 'compute_average_speed()' function to compute average speed of an animal based on fps (frames per second) parameter\n",
    "- Formula used-\n",
    "- Average Speed = Total Distance Travelled / Total Time taken\n",
    "- 'compute_average_speed()' function computes the average speed of an animal based on fps (frames per second) parameter"
   ]
  },
  {
   "cell_type": "code",
   "execution_count": null,
   "metadata": {},
   "outputs": [],
   "source": [
    "data_features = movekit.feature_extraction.compute_absolute_features(data_grouped)\n",
    "print(data_features)"
   ]
  },
  {
   "cell_type": "markdown",
   "metadata": {},
   "source": [
    "### Compute derived features \n",
    "* For instance, compute the travelled distance for each animal, time moving etc. "
   ]
  },
  {
   "cell_type": "code",
   "execution_count": null,
   "metadata": {},
   "outputs": [],
   "source": [
    "distance = movekit.feature_extraction.compute_distance_summary(data_features)\n",
    "stops = movekit.feature_extraction.compute_stop_summary(data_features)"
   ]
  },
  {
   "cell_type": "markdown",
   "metadata": {},
   "source": [
    "### Compute euclidean distance matrix "
   ]
  },
  {
   "cell_type": "code",
   "execution_count": null,
   "metadata": {},
   "outputs": [],
   "source": [
    "distance_matrix = movekit.feature_extraction.distance_euclidean_matrix(data_features)\n",
    "print(distance_matrix)"
   ]
  },
  {
   "cell_type": "markdown",
   "metadata": {},
   "source": [
    "### Save to CSV "
   ]
  },
  {
   "cell_type": "code",
   "execution_count": null,
   "metadata": {},
   "outputs": [],
   "source": [
    "# save features to csv \n",
    "distance_matrix.to_csv(\"fish-5-features.csv\")"
   ]
  },
  {
   "cell_type": "markdown",
   "metadata": {},
   "source": [
    "### Using \"tsfresh\" Python library:"
   ]
  },
  {
   "cell_type": "code",
   "execution_count": null,
   "metadata": {},
   "outputs": [],
   "source": [
    "# For extracting all time series related features, do-\n",
    "extracted_features = movekit.feature_extraction.time_series_analyis(data_features)"
   ]
  },
  {
   "cell_type": "code",
   "execution_count": null,
   "metadata": {},
   "outputs": [],
   "source": [
    "# Save to disk \n",
    "print(extracted_features)\n",
    "#extracted_features.to_json(\"extraced_features_fish.json\")"
   ]
  }
 ],
 "metadata": {
  "kernelspec": {
   "display_name": "Python 3",
   "language": "python",
   "name": "python3"
  },
  "language_info": {
   "codemirror_mode": {
    "name": "ipython",
    "version": 3
   },
   "file_extension": ".py",
   "mimetype": "text/x-python",
   "name": "python",
   "nbconvert_exporter": "python",
   "pygments_lexer": "ipython3",
   "version": "3.7.3"
  }
 },
 "nbformat": 4,
 "nbformat_minor": 4
}
