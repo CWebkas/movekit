{
 "cells": [
  {
   "cell_type": "markdown",
   "metadata": {},
   "source": [
    "# Example usage for \"movekit\""
   ]
  },
  {
   "cell_type": "code",
   "execution_count": 1,
   "metadata": {},
   "outputs": [],
   "source": [
    "import movekit.io \n",
    "import movekit.preprocess\n",
    "import movekit.feature_extraction"
   ]
  },
  {
   "cell_type": "markdown",
   "metadata": {},
   "source": [
    "### Read in CSV file:"
   ]
  },
  {
   "cell_type": "code",
   "execution_count": 2,
   "metadata": {},
   "outputs": [],
   "source": [
    "# Enter absolute/complete path to CSV file-\n",
    "path_to_file = \"datasets/fish-5.csv\""
   ]
  },
  {
   "cell_type": "code",
   "execution_count": 3,
   "metadata": {},
   "outputs": [
    {
     "name": "stdout",
     "output_type": "stream",
     "text": [
      "      time  animal_id       x       y\n",
      "0        1        312  405.29  417.76\n",
      "1        1        511  369.99  428.78\n",
      "2        1        607  390.33  405.89\n",
      "3        1        811  445.15  411.94\n",
      "4        1        905  366.06  451.76\n",
      "9        2        905  365.86  451.76\n",
      "7        2        607  390.25  405.89\n",
      "8        2        811  445.48  412.26\n",
      "5        2        312  405.31  417.37\n",
      "6        2        511  370.01  428.82\n",
      "10       3        312  405.31  417.07\n",
      "11       3        511  370.01  428.85\n",
      "12       3        607  390.17  405.88\n",
      "13       3        811  445.77  412.61\n",
      "14       3        905  365.70  451.76\n",
      "19       4        905  365.57  451.76\n",
      "17       4        607  390.07  405.88\n",
      "18       4        811  446.03  413.00\n",
      "15       4        312  405.30  416.86\n",
      "16       4        511  370.01  428.86\n",
      "20       5        312  405.29  416.71\n",
      "21       5        511  369.99  428.86\n",
      "22       5        607  389.98  405.87\n",
      "23       5        811  446.24  413.42\n",
      "24       5        905  365.47  451.76\n",
      "27       6        607  389.88  405.87\n",
      "29       6        905  365.39  451.76\n",
      "28       6        811  446.42  413.86\n",
      "26       6        511  369.98  428.84\n",
      "25       6        312  405.27  416.61\n",
      "...    ...        ...     ...     ...\n",
      "4974   995        905  667.30  170.74\n",
      "4973   995        811  761.02  307.69\n",
      "4970   995        312  711.78  233.79\n",
      "4971   995        511  658.91  214.82\n",
      "4972   995        607  716.47  290.20\n",
      "4975   996        312  713.75  236.00\n",
      "4976   996        511  659.92  217.74\n",
      "4977   996        607  717.42  291.05\n",
      "4978   996        811  761.31  307.65\n",
      "4979   996        905  669.18  173.24\n",
      "4983   997        811  761.56  307.65\n",
      "4984   997        905  671.22  176.02\n",
      "4981   997        511  660.76  220.15\n",
      "4980   997        312  715.71  238.19\n",
      "4982   997        607  718.52  292.11\n",
      "4985   998        312  717.57  240.33\n",
      "4986   998        511  661.42  222.03\n",
      "4987   998        607  719.85  293.38\n",
      "4988   998        811  761.86  307.65\n",
      "4989   998        905  673.38  178.90\n",
      "4994   999        905  675.59  181.86\n",
      "4993   999        811  762.12  307.65\n",
      "4991   999        511  662.00  223.73\n",
      "4990   999        312  719.33  242.48\n",
      "4992   999        607  721.25  294.79\n",
      "4998  1000        811  762.44  307.61\n",
      "4995  1000        312  720.96  244.60\n",
      "4996  1000        511  662.56  225.29\n",
      "4997  1000        607  722.75  296.34\n",
      "4999  1000        905  677.91  185.05\n",
      "\n",
      "[5000 rows x 4 columns]\n"
     ]
    }
   ],
   "source": [
    "# Read in CSV file using 'path_to_file' variable-\n",
    "data = movekit.io.parse_csv(path_to_file)\n",
    "print(data)"
   ]
  },
  {
   "cell_type": "markdown",
   "metadata": {},
   "source": [
    "### Preprocess CSV file:\n",
    "- \"data_preprocessing()\" function takes as input the CSV file read in using \"csv_to_pandas()\" function.\n",
    "- The function returns the preprocessed data as a Pandas DataFrame. Also, it prints out statistics for the data preprocessing it performs for the user to view."
   ]
  },
  {
   "cell_type": "code",
   "execution_count": 4,
   "metadata": {},
   "outputs": [
    {
     "name": "stdout",
     "output_type": "stream",
     "text": [
      "Missing values:\n",
      " y            0\n",
      "x            0\n",
      "animal_id    0\n",
      "time         0\n",
      "dtype: int64\n",
      "Removed duplicate rows based on the columns 'animal_id' and 'time' column are:\n",
      "Empty DataFrame\n",
      "Columns: [time, animal_id, x, y]\n",
      "Index: []\n"
     ]
    }
   ],
   "source": [
    "# To perform data preprocessing-\n",
    "preprocessed_data = movekit.preprocess.clean(data)"
   ]
  },
  {
   "cell_type": "markdown",
   "metadata": {},
   "source": [
    "### Impute missing values:\n",
    "- To impute missing values for the attribute/feature/column 'x' and 'y', linear interpolation is used\n",
    "- 'linear_interpolation()' function takes as argument the preprocessed data which we get by using 'data_preprocessing()' and also takes 'threshold' as the second argument which specifies the number of rows till which data should NOT be deleted.\n",
    "\n",
    "Example: If threshold = 20, this means that if number of consecutive rows for the data is equal to or greater than 20, they will be deleted!"
   ]
  },
  {
   "cell_type": "code",
   "execution_count": 5,
   "metadata": {},
   "outputs": [
    {
     "name": "stdout",
     "output_type": "stream",
     "text": [
      "\n",
      "Number of missing values in 'x' attribute = 0\n",
      "Number of missing values in 'y' attribute = 0\n",
      "\n"
     ]
    }
   ],
   "source": [
    "# Perform linear interpolation-\n",
    "linear_interpolated_data = movekit.preprocess.linear_interpolation(preprocessed_data, 20)"
   ]
  },
  {
   "cell_type": "markdown",
   "metadata": {},
   "source": [
    "### Grouping data according to 'animal_id' attribute-\n",
    "- 'grouping_data' function groups all values for each 'animal_id'.\n",
    "- The input parameter is 'processed_data' which is the processed Pandas DataFrame\n",
    "- The function returns a dictionary where-:\n",
    "- key is animal_id, value in Pandas DataFrame for that 'animal_id'"
   ]
  },
  {
   "cell_type": "code",
   "execution_count": 6,
   "metadata": {},
   "outputs": [],
   "source": [
    "# To group data according to 'animal_id' attribute-\n",
    "data_grouped = movekit.preprocess.grouping_data(preprocessed_data)"
   ]
  },
  {
   "cell_type": "code",
   "execution_count": 7,
   "metadata": {},
   "outputs": [
    {
     "name": "stdout",
     "output_type": "stream",
     "text": [
      "\n",
      "Animal ID: 312 has the dimension/shape: (1000, 8)\n",
      "\n",
      "Animal ID: 511 has the dimension/shape: (1000, 8)\n",
      "\n",
      "Animal ID: 607 has the dimension/shape: (1000, 8)\n",
      "\n",
      "Animal ID: 811 has the dimension/shape: (1000, 8)\n",
      "\n",
      "Animal ID: 905 has the dimension/shape: (1000, 8)\n"
     ]
    }
   ],
   "source": [
    "# Iterate through the keys of dictionary (which are animal_ids) and get the shape/dimension of each Pandas DataFrame-\n",
    "for aid in data_grouped.keys():\n",
    "    print(\"\\nAnimal ID: {0} has the dimension/shape: {1}\".format(aid, data_grouped[aid].shape))"
   ]
  },
  {
   "cell_type": "markdown",
   "metadata": {},
   "source": [
    "### Calculate absolute features: metric distance, direction, avg_speed, avg_acceleration \n",
    "- Calculate the metric distance and direction between two consecutive time frames/time stamps for each moving entity (animals)\n",
    "- 'compute_average_speed()' function to compute average speed of an animal based on fps (frames per second) parameter\n",
    "- Formula used-\n",
    "- Average Speed = Total Distance Travelled / Total Time taken\n",
    "- 'compute_average_speed()' function computes the average speed of an animal based on fps (frames per second) parameter"
   ]
  },
  {
   "cell_type": "code",
   "execution_count": 8,
   "metadata": {},
   "outputs": [
    {
     "name": "stdout",
     "output_type": "stream",
     "text": [
      "\n",
      "Computing Distance & Direction for Animal ID = 312\n",
      "\n"
     ]
    },
    {
     "name": "stderr",
     "output_type": "stream",
     "text": [
      "/Users/erencakmak/.conda/envs/mo_env/lib/python3.7/site-packages/movekit/feature_extraction/absolute.py:120: RuntimeWarning: divide by zero encountered in double_scalars\n",
      "  direction = math.degrees(math.atan((y2 - y1) / (x2 - x1)))\n",
      "/Users/erencakmak/.conda/envs/mo_env/lib/python3.7/site-packages/movekit/feature_extraction/absolute.py:120: RuntimeWarning: invalid value encountered in double_scalars\n",
      "  direction = math.degrees(math.atan((y2 - y1) / (x2 - x1)))\n"
     ]
    },
    {
     "name": "stdout",
     "output_type": "stream",
     "text": [
      "\n",
      "Computing Distance & Direction for Animal ID = 511\n",
      "\n",
      "\n",
      "Computing Distance & Direction for Animal ID = 607\n",
      "\n",
      "\n",
      "Computing Distance & Direction for Animal ID = 811\n",
      "\n",
      "\n",
      "Computing Distance & Direction for Animal ID = 905\n",
      "\n",
      "\n",
      "Computing Average Speed for Animal ID = 312\n",
      "\n",
      "\n",
      "Computing Average Speed for Animal ID = 511\n",
      "\n",
      "\n",
      "Computing Average Speed for Animal ID = 607\n",
      "\n",
      "\n",
      "Computing Average Speed for Animal ID = 811\n",
      "\n",
      "\n",
      "Computing Average Speed for Animal ID = 905\n",
      "\n",
      "\n",
      "Computing Average Speed for Animal ID = 312\n",
      "\n",
      "\n",
      "Computing Average Speed for Animal ID = 511\n",
      "\n",
      "\n",
      "Computing Average Speed for Animal ID = 607\n",
      "\n",
      "\n",
      "Computing Average Speed for Animal ID = 811\n",
      "\n",
      "\n",
      "Computing Average Speed for Animal ID = 905\n",
      "\n",
      "\n",
      "Number of movers stopped according to threshold speed = 0.5 is 1985\n",
      "Number of movers moving according to threshold speed = 0.5 is 3015\n",
      "\n",
      "      time  animal_id       x       y  distance  average_speed  \\\n",
      "0        1        312  405.29  417.76  0.000000       0.000000   \n",
      "1        2        312  405.31  417.37  0.300000       0.150776   \n",
      "2        3        312  405.31  417.07  0.210238       0.133504   \n",
      "3        4        312  405.30  416.86  0.150333       0.125480   \n",
      "4        5        312  405.29  416.71  0.101980       0.132583   \n",
      "5        6        312  405.27  416.61  0.070000       0.140742   \n",
      "6        7        312  405.27  416.54  0.050000       0.152978   \n",
      "7        8        312  405.27  416.49  0.126491       0.166335   \n",
      "8        9        312  405.31  416.37  0.122066       0.167579   \n",
      "9       10        312  405.38  416.27  0.161245       0.171372   \n",
      "10      11        312  405.46  416.13  0.215407       0.169670   \n",
      "11      12        312  405.54  415.93  0.127279       0.164408   \n",
      "12      13        312  405.63  415.84  0.130000       0.173703   \n",
      "13      14        312  405.68  415.72  0.221359       0.177104   \n",
      "14      15        312  405.75  415.51  0.183576       0.171247   \n",
      "15      16        312  405.84  415.35  0.192354       0.167207   \n",
      "16      17        312  405.93  415.18  0.183576       0.158170   \n",
      "17      18        312  406.02  415.02  0.138924       0.155076   \n",
      "18      19        312  406.09  414.90  0.160000       0.157215   \n",
      "19      20        312  406.09  414.74  0.144222       0.158679   \n",
      "20      21        312  406.17  414.62  0.162788       0.159291   \n",
      "21      22        312  406.28  414.50  0.220227       0.160041   \n",
      "22      23        312  406.45  414.36  0.164012       0.157254   \n",
      "23      24        312  406.58  414.26  0.162788       0.161101   \n",
      "24      25        312  406.69  414.14  0.143178       0.157822   \n",
      "25      26        312  406.75  414.01  0.101980       0.147977   \n",
      "26      27        312  406.77  413.91  0.152643       0.145059   \n",
      "27      28        312  406.69  413.78  0.160312       0.134037   \n",
      "28      29        312  406.68  413.62  0.174642       0.122478   \n",
      "29      30        312  406.72  413.45  0.150333       0.108619   \n",
      "...    ...        ...     ...     ...       ...            ...   \n",
      "4970   971        905  633.68  134.95  0.622254       1.296412   \n",
      "4971   972        905  634.12  135.39  0.728629       1.473362   \n",
      "4972   973        905  634.62  135.92  0.850412       1.665093   \n",
      "4973   974        905  635.26  136.48  0.968297       1.864309   \n",
      "4974   975        905  636.02  137.08  1.070747       2.069931   \n",
      "4975   976        905  636.90  137.69  1.367406       2.266566   \n",
      "4976   977        905  638.03  138.46  1.573054       2.423465   \n",
      "4977   978        905  639.36  139.30  1.736433       2.546568   \n",
      "4978   979        905  640.82  140.24  1.916507       2.641806   \n",
      "4979   980        905  642.41  141.31  2.130376       2.705435   \n",
      "4980   981        905  644.09  142.62  2.391757       2.736203   \n",
      "4981   982        905  645.92  144.16  2.645940       2.711646   \n",
      "4982   983        905  647.85  145.97  2.842569       2.661530   \n",
      "4983   984        905  649.86  147.98  3.024516       2.603074   \n",
      "4984   985        905  651.87  150.24  3.037104       2.566630   \n",
      "4985   986        905  653.83  152.56  2.936392       2.575720   \n",
      "4986   987        905  655.63  154.88  2.804086       2.626899   \n",
      "4987   988        905  657.33  157.11  2.688810       2.706491   \n",
      "4988   989        905  658.89  159.30  2.552802       2.807010   \n",
      "4989   990        905  660.37  161.38  2.438053       2.946173   \n",
      "4990   991        905  661.82  163.34  2.146183       2.702368   \n",
      "4991   992        905  663.13  165.04  2.144784       0.000000   \n",
      "4992   993        905  664.37  166.79  2.258008       0.000000   \n",
      "4993   994        905  665.72  168.60  2.660075       0.000000   \n",
      "4994   995        905  667.30  170.74  3.128003       0.000000   \n",
      "4995   996        905  669.18  173.24  3.448188       0.000000   \n",
      "4996   997        905  671.22  176.02  3.600000       0.000000   \n",
      "4997   998        905  673.38  178.90  3.694009       0.000000   \n",
      "4998   999        905  675.59  181.86  3.944426       0.000000   \n",
      "4999  1000        905  677.91  185.05  0.000000       0.000000   \n",
      "\n",
      "      average_acceleration  direction  real_positive_acceleration  stopped  \n",
      "0                 0.000000   0.000000                    0.000000        1  \n",
      "1                 0.001727 -90.000000                    0.001727        1  \n",
      "2                 0.000802  87.273689                    0.000802        1  \n",
      "3                -0.000710  86.185925                    0.000000        1  \n",
      "4                -0.000816  78.690068                    0.000000        1  \n",
      "5                -0.001224 -90.000000                    0.000000        1  \n",
      "6                -0.001336 -90.000000                    0.000000        1  \n",
      "7                -0.000124 -71.565051                    0.000000        1  \n",
      "8                -0.000379 -55.007980                    0.000000        1  \n",
      "9                 0.000170 -60.255119                    0.000170        1  \n",
      "10                0.000526 -68.198591                    0.000526        1  \n",
      "11               -0.000929 -45.000000                    0.000000        1  \n",
      "12               -0.000340 -67.380135                    0.000000        1  \n",
      "13                0.000586 -71.565051                    0.000586        1  \n",
      "14                0.000404 -60.642246                    0.000404        1  \n",
      "15                0.000904 -62.102729                    0.000904        1  \n",
      "16                0.000309 -60.642246                    0.000309        1  \n",
      "17               -0.000214 -59.743563                    0.000000        1  \n",
      "18               -0.000146 -90.000000                    0.000000        1  \n",
      "19               -0.000061 -56.309932                    0.000000        1  \n",
      "20               -0.000075 -47.489553                    0.000000        1  \n",
      "21                0.000279 -39.472460                    0.000279        1  \n",
      "22               -0.000385 -37.568592                    0.000000        1  \n",
      "23                0.000328 -47.489553                    0.000328        1  \n",
      "24                0.000985 -65.224859                    0.000985        1  \n",
      "25                0.000292 -78.690068                    0.000292        1  \n",
      "26                0.001102  58.392498                    0.001102        1  \n",
      "27                0.001156  86.423666                    0.001156        1  \n",
      "28                0.001386 -76.759480                    0.001386        1  \n",
      "29                0.000775 -86.185925                    0.000775        1  \n",
      "...                    ...        ...                         ...      ...  \n",
      "4970             -0.017695  45.000000                    0.000000        0  \n",
      "4971             -0.019173  46.668337                    0.000000        0  \n",
      "4972             -0.019922  41.185925                    0.000000        0  \n",
      "4973             -0.020562  38.290163                    0.000000        0  \n",
      "4974             -0.019664  34.728996                    0.000000        0  \n",
      "4975             -0.015690  34.271141                    0.000000        0  \n",
      "4976             -0.012310  32.275644                    0.000000        0  \n",
      "4977             -0.009524  32.774877                    0.000000        0  \n",
      "4978             -0.006363  33.938818                    0.000000        0  \n",
      "4979             -0.003077  37.945748                    0.000000        0  \n",
      "4980              0.002456  40.081619                    0.002456        0  \n",
      "4981              0.005012  43.162263                    0.005012        0  \n",
      "4982              0.005846  45.000000                    0.005846        0  \n",
      "4983              0.003644  48.350729                    0.003644        0  \n",
      "4984             -0.000909  49.807954                    0.000000        0  \n",
      "4985             -0.005118  52.193470                    0.000000        0  \n",
      "4986             -0.007959  52.680573                    0.000000        0  \n",
      "4987             -0.010052  54.536636                    0.000000        0  \n",
      "4988             -0.013916  54.566686                    0.000000        0  \n",
      "4989              0.024381  53.506115                    0.024381        0  \n",
      "4990              0.270237  52.382576                    0.270237        0  \n",
      "4991              0.000000  54.679704                    0.000000        1  \n",
      "4992              0.000000  53.282349                    0.000000        1  \n",
      "4993              0.000000  53.560890                    0.000000        1  \n",
      "4994              0.000000  53.056834                    0.000000        1  \n",
      "4995              0.000000  53.728296                    0.000000        1  \n",
      "4996              0.000000  53.130102                    0.000000        1  \n",
      "4997              0.000000  53.254186                    0.000000        1  \n",
      "4998              0.000000  53.972627                    0.000000        1  \n",
      "4999              0.000000   0.000000                    0.000000        1  \n",
      "\n",
      "[5000 rows x 10 columns]\n"
     ]
    }
   ],
   "source": [
    "data_features = movekit.feature_extraction.compute_absolute_features(data_grouped)\n",
    "print(data_features)"
   ]
  },
  {
   "cell_type": "code",
   "execution_count": null,
   "metadata": {},
   "outputs": [],
   "source": [
    "# save features to csv \n",
    "data_features.to_csv(\"fish-5-features.csv\")"
   ]
  },
  {
   "cell_type": "code",
   "execution_count": null,
   "metadata": {},
   "outputs": [],
   "source": [
    "distance_matrix = movekit.feature_extraction.distance_euclidean_matrix(data)\n",
    "print(distance_matrix)"
   ]
  },
  {
   "cell_type": "code",
   "execution_count": null,
   "metadata": {},
   "outputs": [],
   "source": [
    "from sklearn import preprocessing\n",
    "import pandas as pd\n",
    "x = distance_matrix[distance_matrix.columns.difference(['animal_id'])].values\n",
    "min_max_scaler = preprocessing.MinMaxScaler()\n",
    "x_scaled = min_max_scaler.fit_transform(x)\n",
    "distance_matrix_2 = pd.DataFrame(x_scaled)\n",
    "distance_matrix[312] = distance_matrix_2[0]\n",
    "distance_matrix[511] = distance_matrix_2[1]\n",
    "distance_matrix[607] = distance_matrix_2[2]\n",
    "distance_matrix[811] = distance_matrix_2[3]\n",
    "distance_matrix[905] = distance_matrix_2[4]\n",
    "\n",
    "print(distance_matrix)\n",
    "data_features.to_csv(\"fish-5-relations.csv\")"
   ]
  },
  {
   "cell_type": "markdown",
   "metadata": {},
   "source": [
    "### Using \"tsfresh\" Python library:"
   ]
  },
  {
   "cell_type": "code",
   "execution_count": null,
   "metadata": {},
   "outputs": [],
   "source": [
    "# For extracting all time series related features, do-\n",
    "extracted_features = movekit.feature_extraction.time_series_analyis(data_features)"
   ]
  },
  {
   "cell_type": "code",
   "execution_count": null,
   "metadata": {},
   "outputs": [],
   "source": [
    "# Save to disk \n",
    "print(extracted_features)\n",
    "#extracted_features.to_json(\"extraced_features_fish.json\")"
   ]
  },
  {
   "cell_type": "code",
   "execution_count": null,
   "metadata": {},
   "outputs": [],
   "source": []
  }
 ],
 "metadata": {
  "kernelspec": {
   "display_name": "Python 3",
   "language": "python",
   "name": "python3"
  },
  "language_info": {
   "codemirror_mode": {
    "name": "ipython",
    "version": 3
   },
   "file_extension": ".py",
   "mimetype": "text/x-python",
   "name": "python",
   "nbconvert_exporter": "python",
   "pygments_lexer": "ipython3",
   "version": "3.7.3"
  }
 },
 "nbformat": 4,
 "nbformat_minor": 4
}
