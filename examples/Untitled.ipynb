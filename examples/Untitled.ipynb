{
 "cells": [
  {
   "cell_type": "code",
   "execution_count": 1,
   "metadata": {},
   "outputs": [],
   "source": [
    "import movekit as mkit\n",
    "import numpy as np\n",
    "import pandas as pd\n",
    "import matplotlib.pyplot as plt"
   ]
  },
  {
   "cell_type": "code",
   "execution_count": 6,
   "metadata": {},
   "outputs": [],
   "source": [
    "import os\n",
    "os.chdir('..')\n",
    "import src.movekit.io as imp\n",
    "import src.movekit.feature_extraction as fe\n",
    "import src.movekit.clustering as cl"
   ]
  },
  {
   "cell_type": "markdown",
   "metadata": {},
   "source": [
    "### Read in CSV file and preprocess"
   ]
  },
  {
   "cell_type": "code",
   "execution_count": 2,
   "metadata": {},
   "outputs": [],
   "source": [
    "# Enter path to CSV file\n",
    "path = \"./datasets/fish-5.csv\""
   ]
  },
  {
   "cell_type": "code",
   "execution_count": 3,
   "metadata": {},
   "outputs": [
    {
     "name": "stdout",
     "output_type": "stream",
     "text": [
      "\n",
      " Number of missing values = y            0\n",
      "x            0\n",
      "animal_id    0\n",
      "time         0\n",
      "dtype: int64\n",
      "\n"
     ]
    }
   ],
   "source": [
    "# Read in CSV file and preprocess\n",
    "data = mkit.read_data(path)\n",
    "preprocessed_data = mkit.preprocess(data)"
   ]
  },
  {
   "cell_type": "code",
   "execution_count": 8,
   "metadata": {},
   "outputs": [
    {
     "data": {
      "text/html": [
       "<div>\n",
       "<style scoped>\n",
       "    .dataframe tbody tr th:only-of-type {\n",
       "        vertical-align: middle;\n",
       "    }\n",
       "\n",
       "    .dataframe tbody tr th {\n",
       "        vertical-align: top;\n",
       "    }\n",
       "\n",
       "    .dataframe thead th {\n",
       "        text-align: right;\n",
       "    }\n",
       "</style>\n",
       "<table border=\"1\" class=\"dataframe\">\n",
       "  <thead>\n",
       "    <tr style=\"text-align: right;\">\n",
       "      <th></th>\n",
       "      <th>312</th>\n",
       "      <th>511</th>\n",
       "      <th>607</th>\n",
       "      <th>811</th>\n",
       "      <th>905</th>\n",
       "    </tr>\n",
       "  </thead>\n",
       "  <tbody>\n",
       "    <tr>\n",
       "      <th>312</th>\n",
       "      <td>0.000000</td>\n",
       "      <td>30843.085403</td>\n",
       "      <td>32859.600139</td>\n",
       "      <td>42461.524553</td>\n",
       "      <td>37916.447829</td>\n",
       "    </tr>\n",
       "    <tr>\n",
       "      <th>511</th>\n",
       "      <td>30843.085403</td>\n",
       "      <td>0.000000</td>\n",
       "      <td>26931.014323</td>\n",
       "      <td>47116.708116</td>\n",
       "      <td>20967.960073</td>\n",
       "    </tr>\n",
       "    <tr>\n",
       "      <th>607</th>\n",
       "      <td>32859.600139</td>\n",
       "      <td>26931.014323</td>\n",
       "      <td>0.000000</td>\n",
       "      <td>39859.787924</td>\n",
       "      <td>35711.718898</td>\n",
       "    </tr>\n",
       "    <tr>\n",
       "      <th>811</th>\n",
       "      <td>42461.524553</td>\n",
       "      <td>47116.708116</td>\n",
       "      <td>39859.787924</td>\n",
       "      <td>0.000000</td>\n",
       "      <td>38379.806433</td>\n",
       "    </tr>\n",
       "    <tr>\n",
       "      <th>905</th>\n",
       "      <td>37916.447829</td>\n",
       "      <td>20967.960073</td>\n",
       "      <td>35711.718898</td>\n",
       "      <td>38379.806433</td>\n",
       "      <td>0.000000</td>\n",
       "    </tr>\n",
       "  </tbody>\n",
       "</table>\n",
       "</div>"
      ],
      "text/plain": [
       "              312           511           607           811           905\n",
       "312      0.000000  30843.085403  32859.600139  42461.524553  37916.447829\n",
       "511  30843.085403      0.000000  26931.014323  47116.708116  20967.960073\n",
       "607  32859.600139  26931.014323      0.000000  39859.787924  35711.718898\n",
       "811  42461.524553  47116.708116  39859.787924      0.000000  38379.806433\n",
       "905  37916.447829  20967.960073  35711.718898  38379.806433      0.000000"
      ]
     },
     "execution_count": 8,
     "metadata": {},
     "output_type": "execute_result"
    }
   ],
   "source": [
    "cl.dtw_matrix(preprocessed_data)"
   ]
  }
 ],
 "metadata": {
  "kernelspec": {
   "display_name": "Python 3",
   "language": "python",
   "name": "python3"
  },
  "language_info": {
   "codemirror_mode": {
    "name": "ipython",
    "version": 3
   },
   "file_extension": ".py",
   "mimetype": "text/x-python",
   "name": "python",
   "nbconvert_exporter": "python",
   "pygments_lexer": "ipython3",
   "version": "3.7.4"
  }
 },
 "nbformat": 4,
 "nbformat_minor": 2
}
