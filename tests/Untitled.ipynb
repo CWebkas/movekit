{
 "cells": [
  {
   "cell_type": "code",
   "execution_count": 1,
   "metadata": {},
   "outputs": [],
   "source": [
    "import movekit as mkit\n",
    "import pandas as pd\n",
    "import pickle\n",
    "import os\n",
    "import pprint as pp"
   ]
  },
  {
   "cell_type": "code",
   "execution_count": 2,
   "metadata": {},
   "outputs": [],
   "source": [
    "os.chdir(\"C:/Users/lukas/Dropbox/Movekit/\")\n",
    "from src.movekit.feature_extraction import *\n",
    "from src.movekit.preprocess import *\n",
    "os.chdir(\"C:/Users/lukas/Dropbox/Movekit/tests\")"
   ]
  },
  {
   "cell_type": "code",
   "execution_count": 176,
   "metadata": {},
   "outputs": [],
   "source": [
    "path = \"data/interpolated.csv\"\n",
    "dat = mkit.read_data(path)"
   ]
  },
  {
   "cell_type": "code",
   "execution_count": 177,
   "metadata": {},
   "outputs": [],
   "source": [
    "path = \"data/interpolated.csv\"\n",
    "ref = mkit.read_data(path)"
   ]
  },
  {
   "cell_type": "code",
   "execution_count": 3,
   "metadata": {},
   "outputs": [],
   "source": [
    "with open('../tests/data/split_traj.pickle', 'rb') as handle:\n",
    "    ref = pickle.load(handle)"
   ]
  },
  {
   "cell_type": "code",
   "execution_count": 4,
   "metadata": {
    "scrolled": true
   },
   "outputs": [
    {
     "name": "stdout",
     "output_type": "stream",
     "text": [
      "group_312_df1 :pd.DataFrame( {'time': 1, 'animal_id': 312, 'x': 405.29, 'y': 417.76, 'distance': None, 'average_speed': None, 'average_acceleration': None, 'direction': None, 'stopped': None} ),\n",
      "group_312_df2 :pd.DataFrame( {'time': 334, 'animal_id': 312, 'x': 365.27, 'y': 401.82, 'distance': None, 'average_speed': None, 'average_acceleration': None, 'direction': None, 'stopped': None} ),\n",
      "group_312_df3 :pd.DataFrame( {'time': 667, 'animal_id': 312, 'x': 111.78, 'y': 316.24, 'distance': None, 'average_speed': None, 'average_acceleration': None, 'direction': None, 'stopped': None} ),\n",
      "group_511_df1 :pd.DataFrame( {'time': 1, 'animal_id': 511, 'x': 369.99, 'y': 428.78, 'distance': None, 'average_speed': None, 'average_acceleration': None, 'direction': None, 'stopped': None} ),\n",
      "group_511_df2 :pd.DataFrame( {'time': 334, 'animal_id': 511, 'x': 371.9, 'y': 444.74, 'distance': None, 'average_speed': None, 'average_acceleration': None, 'direction': None, 'stopped': None} ),\n",
      "group_511_df3 :pd.DataFrame( {'time': 667, 'animal_id': 511, 'x': 85.88, 'y': 333.39, 'distance': None, 'average_speed': None, 'average_acceleration': None, 'direction': None, 'stopped': None} ),\n",
      "group_607_df1 :pd.DataFrame( {'time': 1, 'animal_id': 607, 'x': 390.33, 'y': 405.89, 'distance': None, 'average_speed': None, 'average_acceleration': None, 'direction': None, 'stopped': None} ),\n",
      "group_607_df2 :pd.DataFrame( {'time': 334, 'animal_id': 607, 'x': 123.11, 'y': 411.65, 'distance': None, 'average_speed': None, 'average_acceleration': None, 'direction': None, 'stopped': None} ),\n",
      "group_607_df3 :pd.DataFrame( {'time': 667, 'animal_id': 607, 'x': 116.18, 'y': 254.46, 'distance': None, 'average_speed': None, 'average_acceleration': None, 'direction': None, 'stopped': None} ),\n",
      "group_811_df1 :pd.DataFrame( {'time': 1, 'animal_id': 811, 'x': 445.15, 'y': 411.94, 'distance': None, 'average_speed': None, 'average_acceleration': None, 'direction': None, 'stopped': None} ),\n",
      "group_811_df2 :pd.DataFrame( {'time': 334, 'animal_id': 811, 'x': 295.54, 'y': 427.97, 'distance': None, 'average_speed': None, 'average_acceleration': None, 'direction': None, 'stopped': None} ),\n",
      "group_811_df3 :pd.DataFrame( {'time': 667, 'animal_id': 811, 'x': 118.05, 'y': 271.15, 'distance': None, 'average_speed': None, 'average_acceleration': None, 'direction': None, 'stopped': None} ),\n",
      "group_905_df1 :pd.DataFrame( {'time': 1, 'animal_id': 905, 'x': 366.06, 'y': 451.76, 'distance': None, 'average_speed': None, 'average_acceleration': None, 'direction': None, 'stopped': None} ),\n",
      "group_905_df2 :pd.DataFrame( {'time': 334, 'animal_id': 905, 'x': 246.56, 'y': 429.52, 'distance': None, 'average_speed': None, 'average_acceleration': None, 'direction': None, 'stopped': None} ),\n",
      "group_905_df3 :pd.DataFrame( {'time': 667, 'animal_id': 905, 'x': 162.21, 'y': 213.94, 'distance': None, 'average_speed': None, 'average_acceleration': None, 'direction': None, 'stopped': None} ),\n"
     ]
    }
   ],
   "source": [
    "for aid in [*ref]:\n",
    "    print(aid, \":pd.DataFrame(\", ref[aid].iloc[0,:].to_dict(), \"),\")"
   ]
  },
  {
   "cell_type": "code",
   "execution_count": 10,
   "metadata": {},
   "outputs": [
    {
     "ename": "ValueError",
     "evalue": "If using all scalar values, you must pass an index",
     "output_type": "error",
     "traceback": [
      "\u001b[1;31m---------------------------------------------------------------------------\u001b[0m",
      "\u001b[1;31mValueError\u001b[0m                                Traceback (most recent call last)",
      "\u001b[1;32m<ipython-input-10-1b4e839d9463>\u001b[0m in \u001b[0;36m<module>\u001b[1;34m\u001b[0m\n\u001b[1;32m----> 1\u001b[1;33m ind = {\"group_312_df1\":pd.DataFrame( {'time': 1, 'animal_id': 312, 'x': 405.29, 'y': 417.76, 'distance': None, 'average_speed': None, 'average_acceleration': None, 'direction': None, 'stopped': None} ),\n\u001b[0m\u001b[0;32m      2\u001b[0m \u001b[1;34m\"group_312_df2\"\u001b[0m\u001b[1;33m:\u001b[0m\u001b[0mpd\u001b[0m\u001b[1;33m.\u001b[0m\u001b[0mDataFrame\u001b[0m\u001b[1;33m(\u001b[0m \u001b[1;33m{\u001b[0m\u001b[1;34m'time'\u001b[0m\u001b[1;33m:\u001b[0m \u001b[1;36m334\u001b[0m\u001b[1;33m,\u001b[0m \u001b[1;34m'animal_id'\u001b[0m\u001b[1;33m:\u001b[0m \u001b[1;36m312\u001b[0m\u001b[1;33m,\u001b[0m \u001b[1;34m'x'\u001b[0m\u001b[1;33m:\u001b[0m \u001b[1;36m365.27\u001b[0m\u001b[1;33m,\u001b[0m \u001b[1;34m'y'\u001b[0m\u001b[1;33m:\u001b[0m \u001b[1;36m401.82\u001b[0m\u001b[1;33m,\u001b[0m \u001b[1;34m'distance'\u001b[0m\u001b[1;33m:\u001b[0m \u001b[1;32mNone\u001b[0m\u001b[1;33m,\u001b[0m \u001b[1;34m'average_speed'\u001b[0m\u001b[1;33m:\u001b[0m \u001b[1;32mNone\u001b[0m\u001b[1;33m,\u001b[0m \u001b[1;34m'average_acceleration'\u001b[0m\u001b[1;33m:\u001b[0m \u001b[1;32mNone\u001b[0m\u001b[1;33m,\u001b[0m \u001b[1;34m'direction'\u001b[0m\u001b[1;33m:\u001b[0m \u001b[1;32mNone\u001b[0m\u001b[1;33m,\u001b[0m \u001b[1;34m'stopped'\u001b[0m\u001b[1;33m:\u001b[0m \u001b[1;32mNone\u001b[0m\u001b[1;33m}\u001b[0m \u001b[1;33m)\u001b[0m\u001b[1;33m,\u001b[0m\u001b[1;33m\u001b[0m\u001b[1;33m\u001b[0m\u001b[0m\n\u001b[0;32m      3\u001b[0m \u001b[1;34m\"group_312_df3\"\u001b[0m\u001b[1;33m:\u001b[0m\u001b[0mpd\u001b[0m\u001b[1;33m.\u001b[0m\u001b[0mDataFrame\u001b[0m\u001b[1;33m(\u001b[0m \u001b[1;33m{\u001b[0m\u001b[1;34m'time'\u001b[0m\u001b[1;33m:\u001b[0m \u001b[1;36m667\u001b[0m\u001b[1;33m,\u001b[0m \u001b[1;34m'animal_id'\u001b[0m\u001b[1;33m:\u001b[0m \u001b[1;36m312\u001b[0m\u001b[1;33m,\u001b[0m \u001b[1;34m'x'\u001b[0m\u001b[1;33m:\u001b[0m \u001b[1;36m111.78\u001b[0m\u001b[1;33m,\u001b[0m \u001b[1;34m'y'\u001b[0m\u001b[1;33m:\u001b[0m \u001b[1;36m316.24\u001b[0m\u001b[1;33m,\u001b[0m \u001b[1;34m'distance'\u001b[0m\u001b[1;33m:\u001b[0m \u001b[1;32mNone\u001b[0m\u001b[1;33m,\u001b[0m \u001b[1;34m'average_speed'\u001b[0m\u001b[1;33m:\u001b[0m \u001b[1;32mNone\u001b[0m\u001b[1;33m,\u001b[0m \u001b[1;34m'average_acceleration'\u001b[0m\u001b[1;33m:\u001b[0m \u001b[1;32mNone\u001b[0m\u001b[1;33m,\u001b[0m \u001b[1;34m'direction'\u001b[0m\u001b[1;33m:\u001b[0m \u001b[1;32mNone\u001b[0m\u001b[1;33m,\u001b[0m \u001b[1;34m'stopped'\u001b[0m\u001b[1;33m:\u001b[0m \u001b[1;32mNone\u001b[0m\u001b[1;33m}\u001b[0m \u001b[1;33m)\u001b[0m\u001b[1;33m,\u001b[0m\u001b[1;33m\u001b[0m\u001b[1;33m\u001b[0m\u001b[0m\n\u001b[0;32m      4\u001b[0m \u001b[1;34m\"group_511_df1\"\u001b[0m\u001b[1;33m:\u001b[0m\u001b[0mpd\u001b[0m\u001b[1;33m.\u001b[0m\u001b[0mDataFrame\u001b[0m\u001b[1;33m(\u001b[0m \u001b[1;33m{\u001b[0m\u001b[1;34m'time'\u001b[0m\u001b[1;33m:\u001b[0m \u001b[1;36m1\u001b[0m\u001b[1;33m,\u001b[0m \u001b[1;34m'animal_id'\u001b[0m\u001b[1;33m:\u001b[0m \u001b[1;36m511\u001b[0m\u001b[1;33m,\u001b[0m \u001b[1;34m'x'\u001b[0m\u001b[1;33m:\u001b[0m \u001b[1;36m369.99\u001b[0m\u001b[1;33m,\u001b[0m \u001b[1;34m'y'\u001b[0m\u001b[1;33m:\u001b[0m \u001b[1;36m428.78\u001b[0m\u001b[1;33m,\u001b[0m \u001b[1;34m'distance'\u001b[0m\u001b[1;33m:\u001b[0m \u001b[1;32mNone\u001b[0m\u001b[1;33m,\u001b[0m \u001b[1;34m'average_speed'\u001b[0m\u001b[1;33m:\u001b[0m \u001b[1;32mNone\u001b[0m\u001b[1;33m,\u001b[0m \u001b[1;34m'average_acceleration'\u001b[0m\u001b[1;33m:\u001b[0m \u001b[1;32mNone\u001b[0m\u001b[1;33m,\u001b[0m \u001b[1;34m'direction'\u001b[0m\u001b[1;33m:\u001b[0m \u001b[1;32mNone\u001b[0m\u001b[1;33m,\u001b[0m \u001b[1;34m'stopped'\u001b[0m\u001b[1;33m:\u001b[0m \u001b[1;32mNone\u001b[0m\u001b[1;33m}\u001b[0m \u001b[1;33m)\u001b[0m\u001b[1;33m,\u001b[0m\u001b[1;33m\u001b[0m\u001b[1;33m\u001b[0m\u001b[0m\n\u001b[0;32m      5\u001b[0m \u001b[1;34m\"group_511_df2\"\u001b[0m\u001b[1;33m:\u001b[0m\u001b[0mpd\u001b[0m\u001b[1;33m.\u001b[0m\u001b[0mDataFrame\u001b[0m\u001b[1;33m(\u001b[0m \u001b[1;33m{\u001b[0m\u001b[1;34m'time'\u001b[0m\u001b[1;33m:\u001b[0m \u001b[1;36m334\u001b[0m\u001b[1;33m,\u001b[0m \u001b[1;34m'animal_id'\u001b[0m\u001b[1;33m:\u001b[0m \u001b[1;36m511\u001b[0m\u001b[1;33m,\u001b[0m \u001b[1;34m'x'\u001b[0m\u001b[1;33m:\u001b[0m \u001b[1;36m371.9\u001b[0m\u001b[1;33m,\u001b[0m \u001b[1;34m'y'\u001b[0m\u001b[1;33m:\u001b[0m \u001b[1;36m444.74\u001b[0m\u001b[1;33m,\u001b[0m \u001b[1;34m'distance'\u001b[0m\u001b[1;33m:\u001b[0m \u001b[1;32mNone\u001b[0m\u001b[1;33m,\u001b[0m \u001b[1;34m'average_speed'\u001b[0m\u001b[1;33m:\u001b[0m \u001b[1;32mNone\u001b[0m\u001b[1;33m,\u001b[0m \u001b[1;34m'average_acceleration'\u001b[0m\u001b[1;33m:\u001b[0m \u001b[1;32mNone\u001b[0m\u001b[1;33m,\u001b[0m \u001b[1;34m'direction'\u001b[0m\u001b[1;33m:\u001b[0m \u001b[1;32mNone\u001b[0m\u001b[1;33m,\u001b[0m \u001b[1;34m'stopped'\u001b[0m\u001b[1;33m:\u001b[0m \u001b[1;32mNone\u001b[0m\u001b[1;33m}\u001b[0m \u001b[1;33m)\u001b[0m\u001b[1;33m,\u001b[0m\u001b[1;33m\u001b[0m\u001b[1;33m\u001b[0m\u001b[0m\n",
      "\u001b[1;32m~\\Anaconda3\\lib\\site-packages\\pandas\\core\\frame.py\u001b[0m in \u001b[0;36m__init__\u001b[1;34m(self, data, index, columns, dtype, copy)\u001b[0m\n\u001b[0;32m    346\u001b[0m                                  dtype=dtype, copy=copy)\n\u001b[0;32m    347\u001b[0m         \u001b[1;32melif\u001b[0m \u001b[0misinstance\u001b[0m\u001b[1;33m(\u001b[0m\u001b[0mdata\u001b[0m\u001b[1;33m,\u001b[0m \u001b[0mdict\u001b[0m\u001b[1;33m)\u001b[0m\u001b[1;33m:\u001b[0m\u001b[1;33m\u001b[0m\u001b[1;33m\u001b[0m\u001b[0m\n\u001b[1;32m--> 348\u001b[1;33m             \u001b[0mmgr\u001b[0m \u001b[1;33m=\u001b[0m \u001b[0mself\u001b[0m\u001b[1;33m.\u001b[0m\u001b[0m_init_dict\u001b[0m\u001b[1;33m(\u001b[0m\u001b[0mdata\u001b[0m\u001b[1;33m,\u001b[0m \u001b[0mindex\u001b[0m\u001b[1;33m,\u001b[0m \u001b[0mcolumns\u001b[0m\u001b[1;33m,\u001b[0m \u001b[0mdtype\u001b[0m\u001b[1;33m=\u001b[0m\u001b[0mdtype\u001b[0m\u001b[1;33m)\u001b[0m\u001b[1;33m\u001b[0m\u001b[1;33m\u001b[0m\u001b[0m\n\u001b[0m\u001b[0;32m    349\u001b[0m         \u001b[1;32melif\u001b[0m \u001b[0misinstance\u001b[0m\u001b[1;33m(\u001b[0m\u001b[0mdata\u001b[0m\u001b[1;33m,\u001b[0m \u001b[0mma\u001b[0m\u001b[1;33m.\u001b[0m\u001b[0mMaskedArray\u001b[0m\u001b[1;33m)\u001b[0m\u001b[1;33m:\u001b[0m\u001b[1;33m\u001b[0m\u001b[1;33m\u001b[0m\u001b[0m\n\u001b[0;32m    350\u001b[0m             \u001b[1;32mimport\u001b[0m \u001b[0mnumpy\u001b[0m\u001b[1;33m.\u001b[0m\u001b[0mma\u001b[0m\u001b[1;33m.\u001b[0m\u001b[0mmrecords\u001b[0m \u001b[1;32mas\u001b[0m \u001b[0mmrecords\u001b[0m\u001b[1;33m\u001b[0m\u001b[1;33m\u001b[0m\u001b[0m\n",
      "\u001b[1;32m~\\Anaconda3\\lib\\site-packages\\pandas\\core\\frame.py\u001b[0m in \u001b[0;36m_init_dict\u001b[1;34m(self, data, index, columns, dtype)\u001b[0m\n\u001b[0;32m    457\u001b[0m             \u001b[0marrays\u001b[0m \u001b[1;33m=\u001b[0m \u001b[1;33m[\u001b[0m\u001b[0mdata\u001b[0m\u001b[1;33m[\u001b[0m\u001b[0mk\u001b[0m\u001b[1;33m]\u001b[0m \u001b[1;32mfor\u001b[0m \u001b[0mk\u001b[0m \u001b[1;32min\u001b[0m \u001b[0mkeys\u001b[0m\u001b[1;33m]\u001b[0m\u001b[1;33m\u001b[0m\u001b[1;33m\u001b[0m\u001b[0m\n\u001b[0;32m    458\u001b[0m \u001b[1;33m\u001b[0m\u001b[0m\n\u001b[1;32m--> 459\u001b[1;33m         \u001b[1;32mreturn\u001b[0m \u001b[0m_arrays_to_mgr\u001b[0m\u001b[1;33m(\u001b[0m\u001b[0marrays\u001b[0m\u001b[1;33m,\u001b[0m \u001b[0mdata_names\u001b[0m\u001b[1;33m,\u001b[0m \u001b[0mindex\u001b[0m\u001b[1;33m,\u001b[0m \u001b[0mcolumns\u001b[0m\u001b[1;33m,\u001b[0m \u001b[0mdtype\u001b[0m\u001b[1;33m=\u001b[0m\u001b[0mdtype\u001b[0m\u001b[1;33m)\u001b[0m\u001b[1;33m\u001b[0m\u001b[1;33m\u001b[0m\u001b[0m\n\u001b[0m\u001b[0;32m    460\u001b[0m \u001b[1;33m\u001b[0m\u001b[0m\n\u001b[0;32m    461\u001b[0m     \u001b[1;32mdef\u001b[0m \u001b[0m_init_ndarray\u001b[0m\u001b[1;33m(\u001b[0m\u001b[0mself\u001b[0m\u001b[1;33m,\u001b[0m \u001b[0mvalues\u001b[0m\u001b[1;33m,\u001b[0m \u001b[0mindex\u001b[0m\u001b[1;33m,\u001b[0m \u001b[0mcolumns\u001b[0m\u001b[1;33m,\u001b[0m \u001b[0mdtype\u001b[0m\u001b[1;33m=\u001b[0m\u001b[1;32mNone\u001b[0m\u001b[1;33m,\u001b[0m \u001b[0mcopy\u001b[0m\u001b[1;33m=\u001b[0m\u001b[1;32mFalse\u001b[0m\u001b[1;33m)\u001b[0m\u001b[1;33m:\u001b[0m\u001b[1;33m\u001b[0m\u001b[1;33m\u001b[0m\u001b[0m\n",
      "\u001b[1;32m~\\Anaconda3\\lib\\site-packages\\pandas\\core\\frame.py\u001b[0m in \u001b[0;36m_arrays_to_mgr\u001b[1;34m(arrays, arr_names, index, columns, dtype)\u001b[0m\n\u001b[0;32m   7354\u001b[0m     \u001b[1;31m# figure out the index, if necessary\u001b[0m\u001b[1;33m\u001b[0m\u001b[1;33m\u001b[0m\u001b[1;33m\u001b[0m\u001b[0m\n\u001b[0;32m   7355\u001b[0m     \u001b[1;32mif\u001b[0m \u001b[0mindex\u001b[0m \u001b[1;32mis\u001b[0m \u001b[1;32mNone\u001b[0m\u001b[1;33m:\u001b[0m\u001b[1;33m\u001b[0m\u001b[1;33m\u001b[0m\u001b[0m\n\u001b[1;32m-> 7356\u001b[1;33m         \u001b[0mindex\u001b[0m \u001b[1;33m=\u001b[0m \u001b[0mextract_index\u001b[0m\u001b[1;33m(\u001b[0m\u001b[0marrays\u001b[0m\u001b[1;33m)\u001b[0m\u001b[1;33m\u001b[0m\u001b[1;33m\u001b[0m\u001b[0m\n\u001b[0m\u001b[0;32m   7357\u001b[0m \u001b[1;33m\u001b[0m\u001b[0m\n\u001b[0;32m   7358\u001b[0m     \u001b[1;31m# don't force copy because getting jammed in an ndarray anyway\u001b[0m\u001b[1;33m\u001b[0m\u001b[1;33m\u001b[0m\u001b[1;33m\u001b[0m\u001b[0m\n",
      "\u001b[1;32m~\\Anaconda3\\lib\\site-packages\\pandas\\core\\frame.py\u001b[0m in \u001b[0;36mextract_index\u001b[1;34m(data)\u001b[0m\n\u001b[0;32m   7391\u001b[0m \u001b[1;33m\u001b[0m\u001b[0m\n\u001b[0;32m   7392\u001b[0m         \u001b[1;32mif\u001b[0m \u001b[1;32mnot\u001b[0m \u001b[0mindexes\u001b[0m \u001b[1;32mand\u001b[0m \u001b[1;32mnot\u001b[0m \u001b[0mraw_lengths\u001b[0m\u001b[1;33m:\u001b[0m\u001b[1;33m\u001b[0m\u001b[1;33m\u001b[0m\u001b[0m\n\u001b[1;32m-> 7393\u001b[1;33m             raise ValueError('If using all scalar values, you must pass'\n\u001b[0m\u001b[0;32m   7394\u001b[0m                              ' an index')\n\u001b[0;32m   7395\u001b[0m \u001b[1;33m\u001b[0m\u001b[0m\n",
      "\u001b[1;31mValueError\u001b[0m: If using all scalar values, you must pass an index"
     ]
    }
   ],
   "source": [
    "ind = {\"group_312_df1\":pd.DataFrame( {'time': 1, 'animal_id': 312, 'x': 405.29, 'y': 417.76, 'distance': None, 'average_speed': None, 'average_acceleration': None, 'direction': None, 'stopped': None} ),\n",
    "\"group_312_df2\":pd.DataFrame( {'time': 334, 'animal_id': 312, 'x': 365.27, 'y': 401.82, 'distance': None, 'average_speed': None, 'average_acceleration': None, 'direction': None, 'stopped': None} ),\n",
    "\"group_312_df3\":pd.DataFrame( {'time': 667, 'animal_id': 312, 'x': 111.78, 'y': 316.24, 'distance': None, 'average_speed': None, 'average_acceleration': None, 'direction': None, 'stopped': None} ),\n",
    "\"group_511_df1\":pd.DataFrame( {'time': 1, 'animal_id': 511, 'x': 369.99, 'y': 428.78, 'distance': None, 'average_speed': None, 'average_acceleration': None, 'direction': None, 'stopped': None} ),\n",
    "\"group_511_df2\":pd.DataFrame( {'time': 334, 'animal_id': 511, 'x': 371.9, 'y': 444.74, 'distance': None, 'average_speed': None, 'average_acceleration': None, 'direction': None, 'stopped': None} ),\n",
    "\"group_511_df3\":pd.DataFrame( {'time': 667, 'animal_id': 511, 'x': 85.88, 'y': 333.39, 'distance': None, 'average_speed': None, 'average_acceleration': None, 'direction': None, 'stopped': None} ),\n",
    "\"group_607_df1\":pd.DataFrame( {'time': 1, 'animal_id': 607, 'x': 390.33, 'y': 405.89, 'distance': None, 'average_speed': None, 'average_acceleration': None, 'direction': None, 'stopped': None} ),\n",
    "\"group_607_df2\":pd.DataFrame( {'time': 334, 'animal_id': 607, 'x': 123.11, 'y': 411.65, 'distance': None, 'average_speed': None, 'average_acceleration': None, 'direction': None, 'stopped': None} ),\n",
    "\"group_607_df3\":pd.DataFrame( {'time': 667, 'animal_id': 607, 'x': 116.18, 'y': 254.46, 'distance': None, 'average_speed': None, 'average_acceleration': None, 'direction': None, 'stopped': None} ),\n",
    "\"group_811_df1\":pd.DataFrame( {'time': 1, 'animal_id': 811, 'x': 445.15, 'y': 411.94, 'distance': None, 'average_speed': None, 'average_acceleration': None, 'direction': None, 'stopped': None} ),\n",
    "\"group_811_df2\":pd.DataFrame( {'time': 334, 'animal_id': 811, 'x': 295.54, 'y': 427.97, 'distance': None, 'average_speed': None, 'average_acceleration': None, 'direction': None, 'stopped': None} ),\n",
    "\"group_811_df3\":pd.DataFrame( {'time': 667, 'animal_id': 811, 'x': 118.05, 'y': 271.15, 'distance': None, 'average_speed': None, 'average_acceleration': None, 'direction': None, 'stopped': None} ),\n",
    "\"group_905_df1\":pd.DataFrame( {'time': 1, 'animal_id': 905, 'x': 366.06, 'y': 451.76, 'distance': None, 'average_speed': None, 'average_acceleration': None, 'direction': None, 'stopped': None} ),\n",
    "\"group_905_df2\":pd.DataFrame( {'time': 334, 'animal_id': 905, 'x': 246.56, 'y': 429.52, 'distance': None, 'average_speed': None, 'average_acceleration': None, 'direction': None, 'stopped': None} ),\n",
    "\"group_905_df3\":pd.DataFrame( {'time': 667, 'animal_id': 905, 'x': 162.21, 'y': 213.94, 'distance': None, 'average_speed': None, 'average_acceleration': None, 'direction': None, 'stopped': None} )}\n"
   ]
  },
  {
   "cell_type": "code",
   "execution_count": null,
   "metadata": {},
   "outputs": [],
   "source": []
  },
  {
   "cell_type": "code",
   "execution_count": 194,
   "metadata": {},
   "outputs": [],
   "source": [
    "resamples = resample_systematic(dict_groups, 1)"
   ]
  },
  {
   "cell_type": "code",
   "execution_count": 195,
   "metadata": {},
   "outputs": [
    {
     "name": "stdout",
     "output_type": "stream",
     "text": [
      "{'time': {0: 1}, 'animal_id': {0: 312}, 'x': {0: 405.29}, 'y': {0: 417.76}, 'distance': {0: None}, 'average_speed': {0: None}, 'average_acceleration': {0: None}, 'direction': {0: None}, 'stopped': {0: None}}\n",
      "{'time': {0: 1}, 'animal_id': {0: 511}, 'x': {0: 369.99}, 'y': {0: 428.78}, 'distance': {0: None}, 'average_speed': {0: None}, 'average_acceleration': {0: None}, 'direction': {0: None}, 'stopped': {0: None}}\n",
      "{'time': {0: 1}, 'animal_id': {0: 607}, 'x': {0: 390.33}, 'y': {0: 405.89}, 'distance': {0: None}, 'average_speed': {0: None}, 'average_acceleration': {0: None}, 'direction': {0: None}, 'stopped': {0: None}}\n",
      "{'time': {0: 1}, 'animal_id': {0: 811}, 'x': {0: 445.15}, 'y': {0: 411.94}, 'distance': {0: None}, 'average_speed': {0: None}, 'average_acceleration': {0: None}, 'direction': {0: None}, 'stopped': {0: None}}\n",
      "{'time': {0: 1}, 'animal_id': {0: 905}, 'x': {0: 366.06}, 'y': {0: 451.76}, 'distance': {0: None}, 'average_speed': {0: None}, 'average_acceleration': {0: None}, 'direction': {0: None}, 'stopped': {0: None}}\n"
     ]
    }
   ],
   "source": [
    "for aid in [*resamples]:\n",
    "    print(resamples[aid].to_dict())\n"
   ]
  },
  {
   "cell_type": "code",
   "execution_count": 190,
   "metadata": {},
   "outputs": [
    {
     "name": "stdout",
     "output_type": "stream",
     "text": [
      "{'time': {0: 1, 100: 101, 200: 201, 300: 301, 400: 401, 500: 501, 600: 601, 700: 701, 800: 801, 900: 901}, 'animal_id': {0: 312, 100: 312, 200: 312, 300: 312, 400: 312, 500: 312, 600: 312, 700: 312, 800: 312, 900: 312}, 'x': {0: 405.29, 100: 409.94, 200: 411.43, 300: 408.29, 400: 187.98, 500: 106.2, 600: 92.39, 700: 161.47, 800: 435.83, 900: 595.13}, 'y': {0: 417.76, 100: 408.24, 200: 406.45, 300: 406.37, 400: 405.8, 500: 386.81, 600: 346.47, 700: 236.42, 800: 78.23, 900: 127.42}, 'distance': {0: None, 100: None, 200: None, 300: None, 400: None, 500: None, 600: None, 700: None, 800: None, 900: None}, 'average_speed': {0: None, 100: None, 200: None, 300: None, 400: None, 500: None, 600: None, 700: None, 800: None, 900: None}, 'average_acceleration': {0: None, 100: None, 200: None, 300: None, 400: None, 500: None, 600: None, 700: None, 800: None, 900: None}, 'direction': {0: None, 100: None, 200: None, 300: None, 400: None, 500: None, 600: None, 700: None, 800: None, 900: None}, 'stopped': {0: None, 100: None, 200: None, 300: None, 400: None, 500: None, 600: None, 700: None, 800: None, 900: None}}\n",
      "{'time': {0: 1, 100: 101, 200: 201, 300: 301, 400: 401, 500: 501, 600: 601, 700: 701, 800: 801, 900: 901}, 'animal_id': {0: 511, 100: 511, 200: 511, 300: 511, 400: 511, 500: 511, 600: 511, 700: 511, 800: 511, 900: 511}, 'x': {0: 369.99, 100: 373.05, 200: 377.06, 300: 387.38, 400: 290.61, 500: 111.52, 600: 77.03, 700: 121.44, 800: 374.6, 900: 576.22}, 'y': {0: 428.78, 100: 425.88, 200: 428.78, 300: 437.72, 400: 439.82, 500: 422.73, 600: 386.89, 700: 271.17, 800: 79.28, 900: 98.38}, 'distance': {0: None, 100: None, 200: None, 300: None, 400: None, 500: None, 600: None, 700: None, 800: None, 900: None}, 'average_speed': {0: None, 100: None, 200: None, 300: None, 400: None, 500: None, 600: None, 700: None, 800: None, 900: None}, 'average_acceleration': {0: None, 100: None, 200: None, 300: None, 400: None, 500: None, 600: None, 700: None, 800: None, 900: None}, 'direction': {0: None, 100: None, 200: None, 300: None, 400: None, 500: None, 600: None, 700: None, 800: None, 900: None}, 'stopped': {0: None, 100: None, 200: None, 300: None, 400: None, 500: None, 600: None, 700: None, 800: None, 900: None}}\n",
      "{'time': {0: 1, 100: 101, 200: 201, 300: 301, 400: 401, 500: 501, 600: 601, 700: 701, 800: 801, 900: 901}, 'animal_id': {0: 607, 100: 607, 200: 607, 300: 607, 400: 607, 500: 607, 600: 607, 700: 607, 800: 607, 900: 607}, 'x': {0: 390.33, 100: 374.41, 200: 361.64, 300: 193.68, 400: 71.03, 500: 61.26, 600: 74.89, 700: 183.12, 800: 445.18, 900: 624.84}, 'y': {0: 405.89, 100: 402.52, 200: 418.01, 300: 418.01, 400: 408.44, 500: 365.88, 600: 307.85, 700: 149.45, 800: 55.36, 900: 132.24}, 'distance': {0: None, 100: None, 200: None, 300: None, 400: None, 500: None, 600: None, 700: None, 800: None, 900: None}, 'average_speed': {0: None, 100: None, 200: None, 300: None, 400: None, 500: None, 600: None, 700: None, 800: None, 900: None}, 'average_acceleration': {0: None, 100: None, 200: None, 300: None, 400: None, 500: None, 600: None, 700: None, 800: None, 900: None}, 'direction': {0: None, 100: None, 200: None, 300: None, 400: None, 500: None, 600: None, 700: None, 800: None, 900: None}, 'stopped': {0: None, 100: None, 200: None, 300: None, 400: None, 500: None, 600: None, 700: None, 800: None, 900: None}}\n",
      "{'time': {0: 1, 100: 101, 200: 201, 300: 301, 400: 401, 500: 501, 600: 601, 700: 701, 800: 801, 900: 901}, 'animal_id': {0: 811, 100: 811, 200: 811, 300: 811, 400: 811, 500: 811, 600: 811, 700: 811, 800: 811, 900: 811}, 'x': {0: 445.15, 100: 434.46, 200: 100.0, 300: 344.32, 400: 155.98, 500: 71.48, 600: 60.74, 700: 193.97, 800: 499.76, 900: 660.14}, 'y': {0: 411.94, 100: 466.93, 200: 90.0, 300: 433.65, 400: 359.89, 500: 332.31, 600: 332.83, 700: 161.39, 800: 75.6, 900: 154.85}, 'distance': {0: None, 100: None, 200: None, 300: None, 400: None, 500: None, 600: None, 700: None, 800: None, 900: None}, 'average_speed': {0: None, 100: None, 200: None, 300: None, 400: None, 500: None, 600: None, 700: None, 800: None, 900: None}, 'average_acceleration': {0: None, 100: None, 200: None, 300: None, 400: None, 500: None, 600: None, 700: None, 800: None, 900: None}, 'direction': {0: None, 100: None, 200: None, 300: None, 400: None, 500: None, 600: None, 700: None, 800: None, 900: None}, 'stopped': {0: None, 100: None, 200: None, 300: None, 400: None, 500: None, 600: None, 700: None, 800: None, 900: None}}\n",
      "{'time': {0: 1, 100: 101, 200: 201, 300: 301, 400: 401, 500: 501, 600: 601, 700: 701, 800: 801, 900: 901}, 'animal_id': {0: 905, 100: 905, 200: 905, 300: 905, 400: 905, 500: 905, 600: 905, 700: 905, 800: 905, 900: 905}, 'x': {0: 366.06, 100: 366.36, 200: 375.92, 300: 333.33, 400: 131.05, 500: 71.26, 600: 89.11, 700: 227.78, 800: 475.64, 900: 620.41}, 'y': {0: 451.76, 100: 453.75, 200: 459.97, 300: 451.64, 400: 390.03, 500: 365.12, 600: 332.39, 700: 136.47, 800: 57.28, 900: 110.45}, 'distance': {0: None, 100: None, 200: None, 300: None, 400: None, 500: None, 600: None, 700: None, 800: None, 900: None}, 'average_speed': {0: None, 100: None, 200: None, 300: None, 400: None, 500: None, 600: None, 700: None, 800: None, 900: None}, 'average_acceleration': {0: None, 100: None, 200: None, 300: None, 400: None, 500: None, 600: None, 700: None, 800: None, 900: None}, 'direction': {0: None, 100: None, 200: None, 300: None, 400: None, 500: None, 600: None, 700: None, 800: None, 900: None}, 'stopped': {0: None, 100: None, 200: None, 300: None, 400: None, 500: None, 600: None, 700: None, 800: None, 900: None}}\n"
     ]
    }
   ],
   "source": [
    "for aid in [*ref]:\n",
    "    print(ref[aid].to_dict())"
   ]
  },
  {
   "cell_type": "code",
   "execution_count": 178,
   "metadata": {},
   "outputs": [],
   "source": [
    "miniref = ref.iloc[0:10:,:]"
   ]
  },
  {
   "cell_type": "code",
   "execution_count": 179,
   "metadata": {},
   "outputs": [
    {
     "name": "stdout",
     "output_type": "stream",
     "text": [
      "{'time': {0: 1, 1: 1, 2: 1, 3: 1, 4: 1, 9: 2, 7: 2, 8: 2, 5: 2, 6: 2}, 'animal_id': {0: 312, 1: 511, 2: 607, 3: 811, 4: 905, 9: 511, 7: 811, 8: 312, 5: 905, 6: 607}, 'x': {0: 405.29, 1: 369.99, 2: 407.57, 3: 445.15, 4: 366.06, 9: 370.01, 7: 445.48, 8: 405.31, 5: 365.86, 6: 390.25}, 'y': {0: 417.76, 1: 428.78, 2: 405.89, 3: 421.18, 4: nan, 9: 428.82, 7: 412.26, 8: 417.37, 5: 451.76, 6: 405.89}}\n"
     ]
    }
   ],
   "source": [
    "print(miniref.to_dict())"
   ]
  },
  {
   "cell_type": "code",
   "execution_count": 147,
   "metadata": {},
   "outputs": [],
   "source": [
    "records = {\"time\": [1, 1, 1, 1, 1, 2, 2, 2, 2, 2, 3, 3, 3, 3, 3],\n",
    "\t\t\t\"animal_id\": [312, 511, 607, 811, 905, 511, 811, 312, 905, 607, 312, 511, 607, 811, 905],\n",
    "\t\t\t\"x\": [405.29, 369.99, 390.33, 445.15, 366.06, 370.01, 445.48, 405.31, 365.86, 390.25, 405.31, 370.01,\n",
    "\t\t\t\t  390.17, 445.77, 365.7],\n",
    "\t\t\t\"y\": [417.76, 428.78, 405.89, 411.94, 451.76, 428.82, 412.26, 417.37, 451.76, 405.89, 417.07, 428.85,\n",
    "\t\t\t\t  405.88,\n",
    "\t\t\t\t  412.61, 451.76]\n",
    "\t\t\t}"
   ]
  },
  {
   "cell_type": "code",
   "execution_count": 148,
   "metadata": {},
   "outputs": [],
   "source": [
    "records = pd.DataFrame(records)"
   ]
  },
  {
   "cell_type": "code",
   "execution_count": 151,
   "metadata": {},
   "outputs": [],
   "source": [
    "avspeed = {\n",
    "\t\t\t312: pd.DataFrame({'time': {0: 1, 1: 2, 2: 3}, 'animal_id': {0: 312, 1: 312, 2: 312},\n",
    "\t\t\t\t\t\t\t'x': {0: 405.29, 1: 405.31, 2: 405.31}, 'y': {0: 417.76, 1: 417.37, 2: 417.07},\n",
    "\t\t\t\t\t\t\t'distance': {0: 0.0, 1: 0.39051248379531817, 2: 0.30000000000001137},\n",
    "\t\t\t\t\t\t\t'average_speed': {0: 0.0, 1: 0.39051248379531817, 2: 0.3000000000000114},\n",
    "\t\t\t\t\t\t\t'average_acceleration': {0: None, 1: None, 2: None},\n",
    "\t\t\t\t\t\t\t'direction': {0: None, 1: -87.0643265535814, 2: -90.0},\n",
    "\t\t\t\t\t\t\t'stopped': {0: None, 1: None, 2: None}}),\n",
    "\t\t\t511: pd.DataFrame({'time': {0: 1, 1: 2, 2: 3}, 'animal_id': {0: 511, 1: 511, 2: 511},\n",
    "\t\t\t\t\t\t\t   'x': {0: 369.99, 1: 370.01, 2: 370.01}, 'y': {0: 428.78, 1: 428.82, 2: 428.85},\n",
    "\t\t\t\t\t\t\t   'distance': {0: 0.0, 1: 0.04472135955000596, 2: 0.03000000000002956},\n",
    "\t\t\t\t\t\t\t   'average_speed': {0: 0.0, 1: 0.04472135955000596, 2: 0.03000000000002956},\n",
    "\t\t\t\t\t\t\t   'average_acceleration': {0: None, 1: None, 2: None},\n",
    "\t\t\t\t\t\t\t   'direction': {0: None, 1: 63.434948822954574, 2: 90.0},\n",
    "\t\t\t\t\t\t\t   'stopped': {0: None, 1: None, 2: None}}),\n",
    "\t\t\t607: pd.DataFrame({'time': {0: 1, 1: 2, 2: 3}, 'animal_id': {0: 607, 1: 607, 2: 607},\n",
    "\t\t\t\t\t\t\t   'x': {0: 390.33, 1: 390.25, 2: 390.17}, 'y': {0: 405.89, 1: 405.89, 2: 405.88},\n",
    "\t\t\t\t\t\t\t   'distance': {0: 0.0, 1: 0.07999999999998408, 2: 0.08062257748296858},\n",
    "\t\t\t\t\t\t\t   'average_speed': {0: 0.0, 1: 0.07999999999998408, 2: 0.08062257748296858},\n",
    "\t\t\t\t\t\t\t   'average_acceleration': {0: None, 1: None, 2: None},\n",
    "\t\t\t\t\t\t\t   'direction': {0: None, 1: 180.0, 2: -172.87498365110324},\n",
    "\t\t\t\t\t\t\t   'stopped': {0: None, 1: None, 2: None}}),\n",
    "\t\t\t811: pd.DataFrame({'time': {0: 1, 1: 2, 2: 3}, 'animal_id': {0: 811, 1: 811, 2: 811},\n",
    "\t\t\t\t\t\t\t   'x': {0: 445.15, 1: 445.48, 2: 445.77}, 'y': {0: 411.94, 1: 412.26, 2: 412.61},\n",
    "\t\t\t\t\t\t\t   'distance': {0: 0.0, 1: 0.45967379738247277, 2: 0.45453272709453474},\n",
    "\t\t\t\t\t\t\t   'average_speed': {0: 0.0, 1: 0.45967379738247277, 2: 0.4545327270945347},\n",
    "\t\t\t\t\t\t\t   'average_acceleration': {0: None, 1: None, 2: None},\n",
    "\t\t\t\t\t\t\t   'direction': {0: None, 1: 44.1185960034137, 2: 50.35582504286055},\n",
    "\t\t\t\t\t\t\t   'stopped': {0: None, 1: None, 2: None}}),\n",
    "\t\t\t905: pd.DataFrame({'time': {0: 1, 1: 2, 2: 3}, 'animal_id': {0: 905, 1: 905, 2: 905},\n",
    "\t\t\t\t\t\t\t   'x': {0: 366.06, 1: 365.86, 2: 365.7}, 'y': {0: 451.76, 1: 451.76, 2: 451.76},\n",
    "\t\t\t\t\t\t\t   'distance': {0: 0.0, 1: 0.19999999999998863, 2: 0.160000000000025},\n",
    "\t\t\t\t\t\t\t   'average_speed': {0: 0.0, 1: 0.19999999999998863, 2: 0.160000000000025},\n",
    "\t\t\t\t\t\t\t   'average_acceleration': {0: None, 1: None, 2: None},\n",
    "\t\t\t\t\t\t\t   'direction': {0: None, 1: 180.0, 2: 180.0}, 'stopped': {0: None, 1: None, 2: None}})}\n"
   ]
  },
  {
   "cell_type": "code",
   "execution_count": 152,
   "metadata": {},
   "outputs": [],
   "source": [
    "distdic = {312: pd.DataFrame(\n",
    "\t\t\t{'time': {0: 1, 1: 2, 2: 3}, 'animal_id': {0: 312, 1: 312, 2: 312}, 'x': {0: 405.29, 1: 405.31, 2: 405.31},\n",
    "\t\t\t 'y': {0: 417.76, 1: 417.37, 2: 417.07}, 'distance': {0: 0.0, 1: 0.39051248379531817,\n",
    "\t\t\t\t\t\t\t\t\t\t\t\t\t\t\t\t  2: 0.30000000000001137},\n",
    "\t\t\t 'average_speed': {0: None, 1: None, 2: None}, 'average_acceleration': {0: None, 1: None, 2: None},\n",
    "\t\t\t 'direction': {0: None, 1: -87.0643265535814, 2: -90.0}, 'stopped': {0: None, 1: None, 2: None}}),\n",
    "\t\t\t511: pd.DataFrame(\n",
    "\t\t\t\t{'time': {0: 1, 1: 2, 2: 3}, 'animal_id': {0: 511, 1: 511, 2: 511},\n",
    "\t\t\t\t 'x': {0: 369.99, 1: 370.01, 2: 370.01}, 'y': {0: 428.78, 1: 428.82, 2: 428.85},\n",
    "\t\t\t\t 'distance': {0: 0.0, 1: 0.04472135955000596, 2: 0.03000000000002956},\n",
    "\t\t\t\t 'average_speed': {0: None, 1: None, 2: None}, 'average_acceleration': {0: None, 1: None, 2: None},\n",
    "\t\t\t\t 'direction': {0: None, 1: 63.434948822954574, 2: 90.0}, 'stopped': {0: None, 1: None, 2: None}}),\n",
    "\t\t\t607: pd.DataFrame(\n",
    "\t\t\t\t{'time': {0: 1, 1: 2, 2: 3}, 'animal_id': {0: 607, 1: 607, 2: 607},\n",
    "\t\t\t\t 'x': {0: 390.33, 1: 390.25, 2: 390.17}, 'y': {0: 405.89, 1: 405.89, 2: 405.88},\n",
    "\t\t\t\t 'distance': {0: 0.0, 1: 0.07999999999998408, 2: 0.08062257748296858},\n",
    "\t\t\t\t 'average_speed': {0: None, 1: None, 2: None}, 'average_acceleration': {0: None, 1: None, 2: None},\n",
    "\t\t\t\t 'direction': {0: None, 1: 180.0, 2: -172.87498365110324}, 'stopped': {0: None, 1: None, 2: None}}),\n",
    "\t\t\t811: pd.DataFrame(\n",
    "\t\t\t\t{'time': {0: 1, 1: 2, 2: 3}, 'animal_id': {0: 811, 1: 811, 2: 811},\n",
    "\t\t\t\t 'x': {0: 445.15, 1: 445.48, 2: 445.77}, 'y': {0: 411.94, 1: 412.26, 2: 412.61},\n",
    "\t\t\t\t 'distance': {0: 0.0, 1: 0.45967379738247277, 2: 0.45453272709453474},\n",
    "\t\t\t\t 'average_speed': {0: None, 1: None, 2: None}, 'average_acceleration': {0: None, 1: None, 2: None},\n",
    "\t\t\t\t 'direction': {0: None, 1: 44.1185960034137, 2: 50.35582504286055},\n",
    "\t\t\t\t 'stopped': {0: None, 1: None, 2: None}}),\n",
    "\t\t\t905: pd.DataFrame(\n",
    "\t\t\t\t{'time': {0: 1, 1: 2, 2: 3}, 'animal_id': {0: 905, 1: 905, 2: 905},\n",
    "\t\t\t\t 'x': {0: 366.06, 1: 365.86, 2: 365.7}, 'y': {0: 451.76, 1: 451.76, 2: 451.76},\n",
    "\t\t\t\t 'distance': {0: 0.0, 1: 0.19999999999998863, 2: 0.160000000000025},\n",
    "\t\t\t\t 'average_speed': {0: None, 1: None, 2: None}, 'average_acceleration': {0: None, 1: None, 2: None},\n",
    "\t\t\t\t 'direction': {0: None, 1: 180.0, 2: 180.0}, 'stopped': {0: None, 1: None, 2: None}})}\n"
   ]
  },
  {
   "cell_type": "code",
   "execution_count": 161,
   "metadata": {},
   "outputs": [
    {
     "data": {
      "text/plain": [
       "time                      int64\n",
       "animal_id                 int64\n",
       "x                       float64\n",
       "y                       float64\n",
       "distance                float64\n",
       "average_speed           float64\n",
       "average_acceleration     object\n",
       "direction               float64\n",
       "stopped                  object\n",
       "dtype: object"
      ]
     },
     "execution_count": 161,
     "metadata": {},
     "output_type": "execute_result"
    }
   ],
   "source": [
    "avspeed[312].dtypes"
   ]
  },
  {
   "cell_type": "code",
   "execution_count": 157,
   "metadata": {},
   "outputs": [],
   "source": [
    "c_avspeed = compute_average_speed(distdic, 1)"
   ]
  },
  {
   "cell_type": "code",
   "execution_count": 159,
   "metadata": {},
   "outputs": [
    {
     "data": {
      "text/plain": [
       "time                      int64\n",
       "animal_id                 int64\n",
       "x                       float64\n",
       "y                       float64\n",
       "distance                float64\n",
       "average_speed           float64\n",
       "average_acceleration     object\n",
       "direction               float64\n",
       "stopped                  object\n",
       "dtype: object"
      ]
     },
     "execution_count": 159,
     "metadata": {},
     "output_type": "execute_result"
    }
   ],
   "source": [
    "c_avspeed[312].dtypes"
   ]
  },
  {
   "cell_type": "code",
   "execution_count": 11,
   "metadata": {},
   "outputs": [],
   "source": [
    "medoids = medoid_computation(records)"
   ]
  },
  {
   "cell_type": "code",
   "execution_count": 13,
   "metadata": {},
   "outputs": [
    {
     "name": "stdout",
     "output_type": "stream",
     "text": [
      "{'time': {0: 1, 1: 1, 2: 1, 3: 1, 4: 1, 5: 2, 6: 2, 7: 2, 8: 2, 9: 2, 10: 3, 11: 3, 12: 3, 13: 3, 14: 3}, 'animal_id': {0: 312, 1: 511, 2: 607, 3: 811, 4: 905, 5: 511, 6: 811, 7: 312, 8: 905, 9: 607, 10: 312, 11: 511, 12: 607, 13: 811, 14: 905}, 'x': {0: 405.29, 1: 369.99, 2: 390.33, 3: 445.15, 4: 366.06, 5: 370.01, 6: 445.48, 7: 405.31, 8: 365.86, 9: 390.25, 10: 405.31, 11: 370.01, 12: 390.17, 13: 445.77, 14: 365.7}, 'y': {0: 417.76, 1: 428.78, 2: 405.89, 3: 411.94, 4: 451.76, 5: 428.82, 6: 412.26, 7: 417.37, 8: 451.76, 9: 405.89, 10: 417.07, 11: 428.85, 12: 405.88, 13: 412.61, 14: 451.76}, 'x_centroid': {0: 395.364, 1: 395.364, 2: 395.364, 3: 395.364, 4: 395.364, 5: 395.382, 6: 395.382, 7: 395.382, 8: 395.382, 9: 395.382, 10: 395.392, 11: 395.392, 12: 395.392, 13: 395.392, 14: 395.392}, 'y_centroid': {0: 423.226, 1: 423.226, 2: 423.226, 3: 423.226, 4: 423.226, 5: 423.22, 6: 423.22, 7: 423.22, 8: 423.22, 9: 423.22, 10: 423.234, 11: 423.234, 12: 423.234, 13: 423.234, 14: 423.234}, 'medoid': {0: 312, 1: 312, 2: 312, 3: 312, 4: 312, 5: 312, 6: 312, 7: 312, 8: 312, 9: 312, 10: 312, 11: 312, 12: 312, 13: 312, 14: 312}, 'distance_to_centroid': {0: 11.331, 1: 25.975, 2: 18.052, 3: 51.049, 4: 40.901, 5: 25.983, 6: 51.283, 7: 11.523, 8: 41.062, 9: 18.074, 10: 11.677, 11: 25.996, 12: 18.123, 13: 51.486, 14: 41.175}}\n"
     ]
    }
   ],
   "source": [
    "print(medoids.to_dict())"
   ]
  },
  {
   "cell_type": "code",
   "execution_count": 14,
   "metadata": {},
   "outputs": [
    {
     "data": {
      "text/plain": [
       "{'time': {0: 1,\n",
       "  1: 1,\n",
       "  2: 1,\n",
       "  3: 1,\n",
       "  4: 1,\n",
       "  5: 2,\n",
       "  6: 2,\n",
       "  7: 2,\n",
       "  8: 2,\n",
       "  9: 2,\n",
       "  10: 3,\n",
       "  11: 3,\n",
       "  12: 3,\n",
       "  13: 3,\n",
       "  14: 3},\n",
       " 'animal_id': {0: 312,\n",
       "  1: 511,\n",
       "  2: 607,\n",
       "  3: 811,\n",
       "  4: 905,\n",
       "  5: 511,\n",
       "  6: 811,\n",
       "  7: 312,\n",
       "  8: 905,\n",
       "  9: 607,\n",
       "  10: 312,\n",
       "  11: 511,\n",
       "  12: 607,\n",
       "  13: 811,\n",
       "  14: 905},\n",
       " 'x': {0: 405.29,\n",
       "  1: 369.99,\n",
       "  2: 390.33,\n",
       "  3: 445.15,\n",
       "  4: 366.06,\n",
       "  5: 370.01,\n",
       "  6: 445.48,\n",
       "  7: 405.31,\n",
       "  8: 365.86,\n",
       "  9: 390.25,\n",
       "  10: 405.31,\n",
       "  11: 370.01,\n",
       "  12: 390.17,\n",
       "  13: 445.77,\n",
       "  14: 365.7},\n",
       " 'y': {0: 417.76,\n",
       "  1: 428.78,\n",
       "  2: 405.89,\n",
       "  3: 411.94,\n",
       "  4: 451.76,\n",
       "  5: 428.82,\n",
       "  6: 412.26,\n",
       "  7: 417.37,\n",
       "  8: 451.76,\n",
       "  9: 405.89,\n",
       "  10: 417.07,\n",
       "  11: 428.85,\n",
       "  12: 405.88,\n",
       "  13: 412.61,\n",
       "  14: 451.76},\n",
       " 'x_centroid': {0: 395.364,\n",
       "  1: 395.364,\n",
       "  2: 395.364,\n",
       "  3: 395.364,\n",
       "  4: 395.364,\n",
       "  5: 395.382,\n",
       "  6: 395.382,\n",
       "  7: 395.382,\n",
       "  8: 395.382,\n",
       "  9: 395.382,\n",
       "  10: 395.392,\n",
       "  11: 395.392,\n",
       "  12: 395.392,\n",
       "  13: 395.392,\n",
       "  14: 395.392},\n",
       " 'y_centroid': {0: 423.226,\n",
       "  1: 423.226,\n",
       "  2: 423.226,\n",
       "  3: 423.226,\n",
       "  4: 423.226,\n",
       "  5: 423.22,\n",
       "  6: 423.22,\n",
       "  7: 423.22,\n",
       "  8: 423.22,\n",
       "  9: 423.22,\n",
       "  10: 423.234,\n",
       "  11: 423.234,\n",
       "  12: 423.234,\n",
       "  13: 423.234,\n",
       "  14: 423.234},\n",
       " 'medoid': {0: 312,\n",
       "  1: 312,\n",
       "  2: 312,\n",
       "  3: 312,\n",
       "  4: 312,\n",
       "  5: 312,\n",
       "  6: 312,\n",
       "  7: 312,\n",
       "  8: 312,\n",
       "  9: 312,\n",
       "  10: 312,\n",
       "  11: 312,\n",
       "  12: 312,\n",
       "  13: 312,\n",
       "  14: 312},\n",
       " 'distance_to_centroid': {0: 11.331,\n",
       "  1: 25.975,\n",
       "  2: 18.052,\n",
       "  3: 51.049,\n",
       "  4: 40.901,\n",
       "  5: 25.983,\n",
       "  6: 51.283,\n",
       "  7: 11.523,\n",
       "  8: 41.062,\n",
       "  9: 18.074,\n",
       "  10: 11.677,\n",
       "  11: 25.996,\n",
       "  12: 18.123,\n",
       "  13: 51.486,\n",
       "  14: 41.175}}"
      ]
     },
     "execution_count": 14,
     "metadata": {},
     "output_type": "execute_result"
    }
   ],
   "source": [
    "{'time': {0: 1, 1: 1, 2: 1, 3: 1, 4: 1, 5: 2, 6: 2, 7: 2, 8: 2, 9: 2, 10: 3, 11: 3, 12: 3, 13: 3, 14: 3}, \n",
    " 'animal_id': {0: 312, 1: 511, 2: 607, 3: 811, 4: 905, 5: 511, 6: 811, 7: 312, 8: 905, 9: 607, 10: 312, 11: 511, 12: 607, 13: 811, 14: 905}, \n",
    " 'x': {0: 405.29, 1: 369.99, 2: 390.33, 3: 445.15, 4: 366.06, 5: 370.01, 6: 445.48, 7: 405.31, 8: 365.86, 9: 390.25, 10: 405.31, 11: 370.01, 12: 390.17, 13: 445.77, 14: 365.7}, \n",
    " 'y': {0: 417.76, 1: 428.78, 2: 405.89, 3: 411.94, 4: 451.76, 5: 428.82, 6: 412.26, 7: 417.37, 8: 451.76, 9: 405.89, 10: 417.07, 11: 428.85, 12: 405.88, 13: 412.61, 14: 451.76}, \n",
    " 'x_centroid': {0: 395.364, 1: 395.364, 2: 395.364, 3: 395.364, 4: 395.364, 5: 395.382, 6: 395.382, 7: 395.382, 8: 395.382, 9: 395.382, 10: 395.392, 11: 395.392, 12: 395.392, 13: 395.392, 14: 395.392}, \n",
    " 'y_centroid': {0: 423.226, 1: 423.226, 2: 423.226, 3: 423.226, 4: 423.226, 5: 423.22, 6: 423.22, 7: 423.22, 8: 423.22, 9: 423.22, 10: 423.234, 11: 423.234, 12: 423.234, 13: 423.234, 14: 423.234}, \n",
    " 'medoid': {0: 312, 1: 312, 2: 312, 3: 312, 4: 312, 5: 312, 6: 312, 7: 312, 8: 312, 9: 312, 10: 312, 11: 312, 12: 312, 13: 312, 14: 312}, \n",
    " 'distance_to_centroid': {0: 11.331, 1: 25.975, 2: 18.052, 3: 51.049, 4: 40.901, 5: 25.983, 6: 51.283, 7: 11.523, 8: 41.062, 9: 18.074, 10: 11.677, 11: 25.996, 12: 18.123, 13: 51.486, 14: 41.175}}"
   ]
  },
  {
   "cell_type": "code",
   "execution_count": 105,
   "metadata": {},
   "outputs": [],
   "source": [
    "ref = {'time': {0: 1, 1: 1, 2: 1, 3: 1, 4: 1, 8: 2, 9: 2, 6: 2, 7: 2, 5: 2, 10: 3, 11: 3, 12: 3, 13: 3,\n",
    "                   14: 3},\n",
    "          'animal_id': {0: 312, 1: 511, 2: 607, 3: 811, 4: 905, 8: 312, 9: 511, 6: 607, 7: 811, 5: 905,\n",
    "                        10: 312, 11: 511, 12: 607, 13: 811, 14: 905},\n",
    "          'x': {0: 405.29, 1: 369.99, 2: 390.33, 3: 445.15, 4: 366.06, 8: 405.31, 9: 370.01, 6: 390.25,\n",
    "                7: 445.48, 5: 365.86, 10: 405.31, 11: 370.01, 12: 390.17, 13: 445.77, 14: 365.7},\n",
    "          'y': {0: 417.76, 1: 428.78, 2: 405.89, 3: 411.94, 4: 451.76, 8: 417.37, 9: 428.82, 6: 405.89,\n",
    "                7: 412.26, 5: 451.76, 10: 417.07, 11: 428.85, 12: 405.88, 13: 412.61, 14: 451.76},\n",
    "          '312': {0: 0.0, 1: 0.0554, 2: 0.0337, 3: 0.0576, 4: 0.0933, 8: 0.0, 9: 0.0558, 6: 0.0331,\n",
    "                  7: 0.0577, 5: 0.0942, 10: 0.0, 11: 0.0562, 12: 0.0327, 13: 0.0579, 14: 0.0949},\n",
    "          '511': {0: 0.0554, 1: 0.0, 2: 0.0582, 3: 0.1123, 4: 0.0511, 8: 0.0558, 9: 0.0, 6: 0.0582,\n",
    "                  7: 0.1125, 5: 0.0511, 10: 0.0562, 11: 0.0, 12: 0.0582, 13: 0.1127, 14: 0.051},\n",
    "          '607': {0: 0.0337, 1: 0.0582, 2: 0.0, 3: 0.0784, 4: 0.1071, 8: 0.0331, 9: 0.0582, 6: 0.0,\n",
    "                  7: 0.0791, 5: 0.1071, 10: 0.0327, 11: 0.0582, 12: 0.0, 13: 0.0798, 14: 0.1072},\n",
    "          '811': {0: 0.0576, 1: 0.1123, 2: 0.0784, 3: 0.0, 4: 0.1421, 8: 0.0577, 9: 0.1125, 6: 0.0791,\n",
    "                  7: 0.0, 5: 0.1422, 10: 0.0579, 11: 0.1127, 12: 0.0798, 13: 0.0, 14: 0.1422},\n",
    "          '905': {0: 0.0933, 1: 0.0511, 2: 0.1071, 3: 0.1421, 4: 0.0, 8: 0.0942, 9: 0.0511, 6: 0.1071,\n",
    "                  7: 0.1422, 5: 0.0, 10: 0.0949, 11: 0.051, 12: 0.1072, 13: 0.1422, 14: 0.0}}"
   ]
  },
  {
   "cell_type": "code",
   "execution_count": 19,
   "metadata": {},
   "outputs": [],
   "source": [
    "records = {\"time\": [1, 1, 1, 1, 1, 2, 2, 2, 2, 2, 3, 3, 3, 3, 3],\n",
    "\"animal_id\": [312, 511, 607, 811, 905, 511, 811, 312, 905, 607, 312, 511, 607, 811, 905],\n",
    "\"x\": [405.29, 369.99, 390.33, 445.15, 366.06, 370.01, 445.48, 405.31, 365.86, 390.25, 405.31, 370.01,\n",
    "      390.17, 445.77, 365.7],\n",
    "\"y\": [417.76, 428.78, 405.89, 411.94, 451.76, 428.82, 412.26, 417.37, 451.76, 405.89, 417.07, 428.85,\n",
    "      405.88,\n",
    "      412.61, 451.76]\n",
    "}"
   ]
  },
  {
   "cell_type": "code",
   "execution_count": 22,
   "metadata": {},
   "outputs": [],
   "source": [
    "records = pd.DataFrame(records)"
   ]
  },
  {
   "cell_type": "code",
   "execution_count": 32,
   "metadata": {},
   "outputs": [],
   "source": [
    "feats = extract_features(records, 1,0.5).round(4)"
   ]
  },
  {
   "cell_type": "code",
   "execution_count": 139,
   "metadata": {},
   "outputs": [
    {
     "name": "stderr",
     "output_type": "stream",
     "text": [
      "Feature Extraction: 100%|██████████████████████████████████████████████████████████████| 30/30 [00:01<00:00, 19.85it/s]\n",
      "C:\\Users\\lukas\\Anaconda3\\lib\\site-packages\\tsfresh\\utilities\\dataframe_functions.py:170: RuntimeWarning: The columns ['average_acceleration__agg_linear_trend__f_agg_\"max\"__chunk_len_10__attr_\"intercept\"'\n",
      " 'average_acceleration__agg_linear_trend__f_agg_\"max\"__chunk_len_10__attr_\"rvalue\"'\n",
      " 'average_acceleration__agg_linear_trend__f_agg_\"max\"__chunk_len_10__attr_\"slope\"'\n",
      " ... 'y__spkt_welch_density__coeff_2' 'y__spkt_welch_density__coeff_5'\n",
      " 'y__spkt_welch_density__coeff_8'] did not have any finite values. Filling with zeros.\n",
      "  df.iloc[:, np.where(is_col_non_finite)[0]].columns.values), RuntimeWarning)\n"
     ]
    }
   ],
   "source": [
    "ts_feats = ts_all_features(feats)"
   ]
  },
  {
   "cell_type": "code",
   "execution_count": 140,
   "metadata": {},
   "outputs": [],
   "source": [
    "ts_feats = ts_feats.round(4)"
   ]
  },
  {
   "cell_type": "code",
   "execution_count": 146,
   "metadata": {},
   "outputs": [
    {
     "name": "stdout",
     "output_type": "stream",
     "text": [
      "{'average_acceleration__agg_linear_trend__f_agg_\"max\"__chunk_len_5__attr_\"slope\"': {312: 0.0, 511: 0.0, 607: 0.0, 811: 0.0, 905: 0.0}, 'average_acceleration__agg_linear_trend__f_agg_\"max\"__chunk_len_5__attr_\"stderr\"': {312: 0.0, 511: 0.0, 607: 0.0, 811: 0.0, 905: 0.0}, 'average_acceleration__agg_linear_trend__f_agg_\"mean\"__chunk_len_10__attr_\"intercept\"': {312: 0.0, 511: 0.0, 607: 0.0, 811: 0.0, 905: 0.0}, 'average_acceleration__agg_linear_trend__f_agg_\"mean\"__chunk_len_10__attr_\"rvalue\"': {312: 0.0, 511: 0.0, 607: 0.0, 811: 0.0, 905: 0.0}, 'average_acceleration__agg_linear_trend__f_agg_\"mean\"__chunk_len_10__attr_\"slope\"': {312: 0.0, 511: 0.0, 607: 0.0, 811: 0.0, 905: 0.0}, 'average_acceleration__agg_linear_trend__f_agg_\"mean\"__chunk_len_10__attr_\"stderr\"': {312: 0.0, 511: 0.0, 607: 0.0, 811: 0.0, 905: 0.0}, 'average_acceleration__agg_linear_trend__f_agg_\"mean\"__chunk_len_50__attr_\"intercept\"': {312: 0.0, 511: 0.0, 607: 0.0, 811: 0.0, 905: 0.0}, 'average_acceleration__agg_linear_trend__f_agg_\"mean\"__chunk_len_50__attr_\"rvalue\"': {312: 0.0, 511: 0.0, 607: 0.0, 811: 0.0, 905: 0.0}, 'average_acceleration__agg_linear_trend__f_agg_\"mean\"__chunk_len_50__attr_\"slope\"': {312: 0.0, 511: 0.0, 607: 0.0, 811: 0.0, 905: 0.0}, 'average_acceleration__agg_linear_trend__f_agg_\"mean\"__chunk_len_50__attr_\"stderr\"': {312: 0.0, 511: 0.0, 607: 0.0, 811: 0.0, 905: 0.0}, 'average_acceleration__agg_linear_trend__f_agg_\"mean\"__chunk_len_5__attr_\"intercept\"': {312: 0.0, 511: 0.0, 607: 0.0, 811: 0.0, 905: 0.0}, 'average_acceleration__agg_linear_trend__f_agg_\"mean\"__chunk_len_5__attr_\"rvalue\"': {312: 0.0, 511: 0.0, 607: 0.0, 811: 0.0, 905: 0.0}, 'average_acceleration__agg_linear_trend__f_agg_\"mean\"__chunk_len_5__attr_\"slope\"': {312: 0.0, 511: 0.0, 607: 0.0, 811: 0.0, 905: 0.0}, 'average_acceleration__agg_linear_trend__f_agg_\"mean\"__chunk_len_5__attr_\"stderr\"': {312: 0.0, 511: 0.0, 607: 0.0, 811: 0.0, 905: 0.0}, 'average_acceleration__agg_linear_trend__f_agg_\"min\"__chunk_len_10__attr_\"intercept\"': {312: 0.0, 511: 0.0, 607: 0.0, 811: 0.0, 905: 0.0}}\n"
     ]
    }
   ],
   "source": [
    "print(ts_feats.iloc[:, 15:30].to_dict())"
   ]
  },
  {
   "cell_type": "code",
   "execution_count": 101,
   "metadata": {},
   "outputs": [],
   "source": [
    "ts_feat = {'average_acceleration__autocorrelation__lag_0': {312: 1.0, 511: 1.0, 607: 1.0, 811: 1.0, 905: 1.0},\n",
    "\t\t   'average_acceleration__autocorrelation__lag_1': {312: -0.9687, 511: -0.9436, 607: -1.0, 811: -0.9999,\n",
    "\t\t\t\t\t\t\t\t\t\t\t\t\t\t\t905: -0.9758},\n",
    "\t\t   'average_acceleration__autocorrelation__lag_2': {312: 0.4373, 511: 0.3871, 607: 0.4999, 811: 0.4998,\n",
    "\t\t\t\t\t\t\t\t\t\t\t\t\t\t\t905: 0.4516},\n",
    "\t\t   'average_acceleration__autocorrelation__lag_3': {312: None, 511: None, 607: None, 811: None, 905: None},\n",
    "\t\t   'average_acceleration__autocorrelation__lag_4': {312: None, 511: None, 607: None, 811: None, 905: None},\n",
    "\t\t   'average_acceleration__autocorrelation__lag_5': {312: None, 511: None, 607: None, 811: None, 905: None},\n",
    "\t\t   'average_acceleration__autocorrelation__lag_6': {312: None, 511: None, 607: None, 811: None, 905: None},\n",
    "\t\t   'average_acceleration__autocorrelation__lag_7': {312: None, 511: None, 607: None, 811: None, 905: None},\n",
    "\t\t   'average_acceleration__autocorrelation__lag_8': {312: None, 511: None, 607: None, 811: None, 905: None},\n",
    "\t\t   'average_acceleration__autocorrelation__lag_9': {312: None, 511: None, 607: None, 811: None, 905: None},\n",
    "\t\t   'average_speed__autocorrelation__lag_0': {312: 1.0, 511: 1.0, 607: 1.0, 811: 1.0, 905: 1.0},\n",
    "\t\t   'average_speed__autocorrelation__lag_1': {312: -0.4615, 511: -0.5665, 607: -0.2444, 811: -0.2586,\n",
    "\t\t\t\t\t\t\t\t\t\t\t\t\t 905: -0.4286},\n",
    "\t\t   'average_speed__autocorrelation__lag_2': {312: -0.5771, 511: -0.367, 607: -1.0112, 811: -0.9828,\n",
    "\t\t\t\t\t\t\t\t\t\t\t\t\t 905: -0.6429},\n",
    "\t\t   'average_speed__autocorrelation__lag_3': {312: None, 511: None, 607: None, 811: None, 905: None},\n",
    "\t\t   'average_speed__autocorrelation__lag_4': {312: None, 511: None, 607: None, 811: None, 905: None},\n",
    "\t\t   'average_speed__autocorrelation__lag_5': {312: None, 511: None, 607: None, 811: None, 905: None},\n",
    "\t\t   'average_speed__autocorrelation__lag_6': {312: None, 511: None, 607: None, 811: None, 905: None},\n",
    "\t\t   'average_speed__autocorrelation__lag_7': {312: None, 511: None, 607: None, 811: None, 905: None},\n",
    "\t\t   'average_speed__autocorrelation__lag_8': {312: None, 511: None, 607: None, 811: None, 905: None},\n",
    "\t\t   'average_speed__autocorrelation__lag_9': {312: None, 511: None, 607: None, 811: None, 905: None},\n",
    "\t\t   'direction__autocorrelation__lag_0': {312: 1.0, 511: 1.0, 607: 1.0, 811: 1.0, 905: 1.0},\n",
    "\t\t   'direction__autocorrelation__lag_1': {312: -0.2256, 511: -0.053, 607: -0.76, 811: -0.1587, 905: -0.25},\n",
    "\t\t   'direction__autocorrelation__lag_2': {312: -1.0489, 511: -1.394, 607: 0.0201, 811: -1.1826, 905: -1.0},\n",
    "\t\t   'direction__autocorrelation__lag_3': {312: None, 511: None, 607: None, 811: None, 905: None},\n",
    "\t\t   'direction__autocorrelation__lag_4': {312: None, 511: None, 607: None, 811: None, 905: None},\n",
    "\t\t   'direction__autocorrelation__lag_5': {312: None, 511: None, 607: None, 811: None, 905: None},\n",
    "\t\t   'direction__autocorrelation__lag_6': {312: None, 511: None, 607: None, 811: None, 905: None},\n",
    "\t\t   'direction__autocorrelation__lag_7': {312: None, 511: None, 607: None, 811: None, 905: None},\n",
    "\t\t   'direction__autocorrelation__lag_8': {312: None, 511: None, 607: None, 811: None, 905: None},\n",
    "\t\t   'direction__autocorrelation__lag_9': {312: None, 511: None, 607: None, 811: None, 905: None},\n",
    "\t\t   'distance__autocorrelation__lag_0': {312: 1.0, 511: 1.0, 607: 1.0, 811: 1.0, 905: 1.0},\n",
    "\t\t   'distance__autocorrelation__lag_1': {312: -0.4615, 511: -0.5665, 607: -0.2444, 811: -0.2586, 905: -0.4286},\n",
    "\t\t   'distance__autocorrelation__lag_2': {312: -0.5771, 511: -0.367, 607: -1.0112, 811: -0.9828, 905: -0.6429},\n",
    "\t\t   'distance__autocorrelation__lag_3': {312: None, 511: None, 607: None, 811: None, 905: None},\n",
    "\t\t   'distance__autocorrelation__lag_4': {312: None, 511: None, 607: None, 811: None, 905: None},\n",
    "\t\t   'distance__autocorrelation__lag_5': {312: None, 511: None, 607: None, 811: None, 905: None},\n",
    "\t\t   'distance__autocorrelation__lag_6': {312: None, 511: None, 607: None, 811: None, 905: None},\n",
    "\t\t   'distance__autocorrelation__lag_7': {312: None, 511: None, 607: None, 811: None, 905: None},\n",
    "\t\t   'distance__autocorrelation__lag_8': {312: None, 511: None, 607: None, 811: None, 905: None},\n",
    "\t\t   'distance__autocorrelation__lag_9': {312: None, 511: None, 607: None, 811: None, 905: None},\n",
    "\t\t   'x__autocorrelation__lag_0': {312: 1.0, 511: 1.0, 607: 1.0, 811: 1.0, 905: 1.0},\n",
    "\t\t   'x__autocorrelation__lag_1': {312: -0.25, 511: -0.25, 607: 0.0, 811: -0.0014, 905: -0.0041},\n",
    "\t\t   'x__autocorrelation__lag_2': {312: -1.0, 511: -1.0, 607: -1.5, 811: -1.4972, 905: -1.4918},\n",
    "\t\t   'x__autocorrelation__lag_3': {312: None, 511: None, 607: None, 811: None, 905: None},\n",
    "\t\t   'x__autocorrelation__lag_4': {312: None, 511: None, 607: None, 811: None, 905: None},\n",
    "\t\t   'x__autocorrelation__lag_5': {312: None, 511: None, 607: None, 811: None, 905: None},\n",
    "\t\t   'x__autocorrelation__lag_6': {312: None, 511: None, 607: None, 811: None, 905: None},\n",
    "\t\t   'x__autocorrelation__lag_7': {312: None, 511: None, 607: None, 811: None, 905: None},\n",
    "\t\t   'x__autocorrelation__lag_8': {312: None, 511: None, 607: None, 811: None, 905: None},\n",
    "\t\t   'x__autocorrelation__lag_9': {312: None, 511: None, 607: None, 811: None, 905: None},\n",
    "\t\t   'y__autocorrelation__lag_0': {312: 1.0, 511: 1.0, 607: 1.0, 811: 1.0, 905: None},\n",
    "\t\t   'y__autocorrelation__lag_1': {312: -0.0056, 511: -0.0068, 607: -0.25, 811: -0.0007, 905: None},\n",
    "\t\t   'y__autocorrelation__lag_2': {312: -1.4887, 511: -1.4865, 607: -1.0, 811: -1.4987, 905: None},\n",
    "\t\t   'y__autocorrelation__lag_3': {312: None, 511: None, 607: None, 811: None, 905: None},\n",
    "\t\t   'y__autocorrelation__lag_4': {312: None, 511: None, 607: None, 811: None, 905: None},\n",
    "\t\t   'y__autocorrelation__lag_5': {312: None, 511: None, 607: None, 811: None, 905: None},\n",
    "\t\t   'y__autocorrelation__lag_6': {312: None, 511: None, 607: None, 811: None, 905: None},\n",
    "\t\t   'y__autocorrelation__lag_7': {312: None, 511: None, 607: None, 811: None, 905: None},\n",
    "\t\t   'y__autocorrelation__lag_8': {312: None, 511: None, 607: None, 811: None, 905: None},\n",
    "\t\t   'y__autocorrelation__lag_9': {312: None, 511: None, 607: None, 811: None, 905: None}}\n",
    "\n"
   ]
  },
  {
   "cell_type": "code",
   "execution_count": 104,
   "metadata": {},
   "outputs": [],
   "source": [
    "ts_feat = pd.DataFrame(ts_feat)"
   ]
  },
  {
   "cell_type": "code",
   "execution_count": 95,
   "metadata": {},
   "outputs": [
    {
     "data": {
      "text/plain": [
       "Int64Index([312, 511, 607, 811, 905], dtype='int64', name='id')"
      ]
     },
     "execution_count": 95,
     "metadata": {},
     "output_type": "execute_result"
    }
   ],
   "source": [
    "ts_feat.index"
   ]
  },
  {
   "cell_type": "code",
   "execution_count": 92,
   "metadata": {},
   "outputs": [
    {
     "data": {
      "text/plain": [
       "Int64Index([312, 511, 607, 811, 905], dtype='int64', name='id')"
      ]
     },
     "execution_count": 92,
     "metadata": {},
     "output_type": "execute_result"
    }
   ],
   "source": [
    "ts_feats.index"
   ]
  },
  {
   "cell_type": "code",
   "execution_count": 117,
   "metadata": {},
   "outputs": [],
   "source": [
    "ts_feat = ts_feat.rename_axis(\"bar\")"
   ]
  },
  {
   "cell_type": "code",
   "execution_count": 121,
   "metadata": {},
   "outputs": [
    {
     "data": {
      "text/html": [
       "<div>\n",
       "<style scoped>\n",
       "    .dataframe tbody tr th:only-of-type {\n",
       "        vertical-align: middle;\n",
       "    }\n",
       "\n",
       "    .dataframe tbody tr th {\n",
       "        vertical-align: top;\n",
       "    }\n",
       "\n",
       "    .dataframe thead th {\n",
       "        text-align: right;\n",
       "    }\n",
       "</style>\n",
       "<table border=\"1\" class=\"dataframe\">\n",
       "  <thead>\n",
       "    <tr style=\"text-align: right;\">\n",
       "      <th>variable</th>\n",
       "      <th>average_acceleration__autocorrelation__lag_0</th>\n",
       "      <th>average_acceleration__autocorrelation__lag_1</th>\n",
       "      <th>average_acceleration__autocorrelation__lag_2</th>\n",
       "      <th>average_acceleration__autocorrelation__lag_3</th>\n",
       "      <th>average_acceleration__autocorrelation__lag_4</th>\n",
       "      <th>average_acceleration__autocorrelation__lag_5</th>\n",
       "      <th>average_acceleration__autocorrelation__lag_6</th>\n",
       "      <th>average_acceleration__autocorrelation__lag_7</th>\n",
       "      <th>average_acceleration__autocorrelation__lag_8</th>\n",
       "      <th>average_acceleration__autocorrelation__lag_9</th>\n",
       "      <th>...</th>\n",
       "      <th>y__autocorrelation__lag_0</th>\n",
       "      <th>y__autocorrelation__lag_1</th>\n",
       "      <th>y__autocorrelation__lag_2</th>\n",
       "      <th>y__autocorrelation__lag_3</th>\n",
       "      <th>y__autocorrelation__lag_4</th>\n",
       "      <th>y__autocorrelation__lag_5</th>\n",
       "      <th>y__autocorrelation__lag_6</th>\n",
       "      <th>y__autocorrelation__lag_7</th>\n",
       "      <th>y__autocorrelation__lag_8</th>\n",
       "      <th>y__autocorrelation__lag_9</th>\n",
       "    </tr>\n",
       "    <tr>\n",
       "      <th>id</th>\n",
       "      <th></th>\n",
       "      <th></th>\n",
       "      <th></th>\n",
       "      <th></th>\n",
       "      <th></th>\n",
       "      <th></th>\n",
       "      <th></th>\n",
       "      <th></th>\n",
       "      <th></th>\n",
       "      <th></th>\n",
       "      <th></th>\n",
       "      <th></th>\n",
       "      <th></th>\n",
       "      <th></th>\n",
       "      <th></th>\n",
       "      <th></th>\n",
       "      <th></th>\n",
       "      <th></th>\n",
       "      <th></th>\n",
       "      <th></th>\n",
       "      <th></th>\n",
       "    </tr>\n",
       "  </thead>\n",
       "  <tbody>\n",
       "    <tr>\n",
       "      <th>312</th>\n",
       "      <td>1.0</td>\n",
       "      <td>-0.9687</td>\n",
       "      <td>0.4373</td>\n",
       "      <td>NaN</td>\n",
       "      <td>NaN</td>\n",
       "      <td>NaN</td>\n",
       "      <td>NaN</td>\n",
       "      <td>NaN</td>\n",
       "      <td>NaN</td>\n",
       "      <td>NaN</td>\n",
       "      <td>...</td>\n",
       "      <td>1.0</td>\n",
       "      <td>-0.0056</td>\n",
       "      <td>-1.4887</td>\n",
       "      <td>NaN</td>\n",
       "      <td>NaN</td>\n",
       "      <td>NaN</td>\n",
       "      <td>NaN</td>\n",
       "      <td>NaN</td>\n",
       "      <td>NaN</td>\n",
       "      <td>NaN</td>\n",
       "    </tr>\n",
       "    <tr>\n",
       "      <th>511</th>\n",
       "      <td>1.0</td>\n",
       "      <td>-0.9436</td>\n",
       "      <td>0.3871</td>\n",
       "      <td>NaN</td>\n",
       "      <td>NaN</td>\n",
       "      <td>NaN</td>\n",
       "      <td>NaN</td>\n",
       "      <td>NaN</td>\n",
       "      <td>NaN</td>\n",
       "      <td>NaN</td>\n",
       "      <td>...</td>\n",
       "      <td>1.0</td>\n",
       "      <td>-0.0068</td>\n",
       "      <td>-1.4865</td>\n",
       "      <td>NaN</td>\n",
       "      <td>NaN</td>\n",
       "      <td>NaN</td>\n",
       "      <td>NaN</td>\n",
       "      <td>NaN</td>\n",
       "      <td>NaN</td>\n",
       "      <td>NaN</td>\n",
       "    </tr>\n",
       "    <tr>\n",
       "      <th>607</th>\n",
       "      <td>1.0</td>\n",
       "      <td>-1.0000</td>\n",
       "      <td>0.4999</td>\n",
       "      <td>NaN</td>\n",
       "      <td>NaN</td>\n",
       "      <td>NaN</td>\n",
       "      <td>NaN</td>\n",
       "      <td>NaN</td>\n",
       "      <td>NaN</td>\n",
       "      <td>NaN</td>\n",
       "      <td>...</td>\n",
       "      <td>1.0</td>\n",
       "      <td>-0.2500</td>\n",
       "      <td>-1.0000</td>\n",
       "      <td>NaN</td>\n",
       "      <td>NaN</td>\n",
       "      <td>NaN</td>\n",
       "      <td>NaN</td>\n",
       "      <td>NaN</td>\n",
       "      <td>NaN</td>\n",
       "      <td>NaN</td>\n",
       "    </tr>\n",
       "    <tr>\n",
       "      <th>811</th>\n",
       "      <td>1.0</td>\n",
       "      <td>-0.9999</td>\n",
       "      <td>0.4998</td>\n",
       "      <td>NaN</td>\n",
       "      <td>NaN</td>\n",
       "      <td>NaN</td>\n",
       "      <td>NaN</td>\n",
       "      <td>NaN</td>\n",
       "      <td>NaN</td>\n",
       "      <td>NaN</td>\n",
       "      <td>...</td>\n",
       "      <td>1.0</td>\n",
       "      <td>-0.0007</td>\n",
       "      <td>-1.4987</td>\n",
       "      <td>NaN</td>\n",
       "      <td>NaN</td>\n",
       "      <td>NaN</td>\n",
       "      <td>NaN</td>\n",
       "      <td>NaN</td>\n",
       "      <td>NaN</td>\n",
       "      <td>NaN</td>\n",
       "    </tr>\n",
       "    <tr>\n",
       "      <th>905</th>\n",
       "      <td>1.0</td>\n",
       "      <td>-0.9758</td>\n",
       "      <td>0.4516</td>\n",
       "      <td>NaN</td>\n",
       "      <td>NaN</td>\n",
       "      <td>NaN</td>\n",
       "      <td>NaN</td>\n",
       "      <td>NaN</td>\n",
       "      <td>NaN</td>\n",
       "      <td>NaN</td>\n",
       "      <td>...</td>\n",
       "      <td>NaN</td>\n",
       "      <td>NaN</td>\n",
       "      <td>NaN</td>\n",
       "      <td>NaN</td>\n",
       "      <td>NaN</td>\n",
       "      <td>NaN</td>\n",
       "      <td>NaN</td>\n",
       "      <td>NaN</td>\n",
       "      <td>NaN</td>\n",
       "      <td>NaN</td>\n",
       "    </tr>\n",
       "  </tbody>\n",
       "</table>\n",
       "<p>5 rows × 60 columns</p>\n",
       "</div>"
      ],
      "text/plain": [
       "variable  average_acceleration__autocorrelation__lag_0  \\\n",
       "id                                                       \n",
       "312                                                1.0   \n",
       "511                                                1.0   \n",
       "607                                                1.0   \n",
       "811                                                1.0   \n",
       "905                                                1.0   \n",
       "\n",
       "variable  average_acceleration__autocorrelation__lag_1  \\\n",
       "id                                                       \n",
       "312                                            -0.9687   \n",
       "511                                            -0.9436   \n",
       "607                                            -1.0000   \n",
       "811                                            -0.9999   \n",
       "905                                            -0.9758   \n",
       "\n",
       "variable  average_acceleration__autocorrelation__lag_2  \\\n",
       "id                                                       \n",
       "312                                             0.4373   \n",
       "511                                             0.3871   \n",
       "607                                             0.4999   \n",
       "811                                             0.4998   \n",
       "905                                             0.4516   \n",
       "\n",
       "variable  average_acceleration__autocorrelation__lag_3  \\\n",
       "id                                                       \n",
       "312                                                NaN   \n",
       "511                                                NaN   \n",
       "607                                                NaN   \n",
       "811                                                NaN   \n",
       "905                                                NaN   \n",
       "\n",
       "variable  average_acceleration__autocorrelation__lag_4  \\\n",
       "id                                                       \n",
       "312                                                NaN   \n",
       "511                                                NaN   \n",
       "607                                                NaN   \n",
       "811                                                NaN   \n",
       "905                                                NaN   \n",
       "\n",
       "variable  average_acceleration__autocorrelation__lag_5  \\\n",
       "id                                                       \n",
       "312                                                NaN   \n",
       "511                                                NaN   \n",
       "607                                                NaN   \n",
       "811                                                NaN   \n",
       "905                                                NaN   \n",
       "\n",
       "variable  average_acceleration__autocorrelation__lag_6  \\\n",
       "id                                                       \n",
       "312                                                NaN   \n",
       "511                                                NaN   \n",
       "607                                                NaN   \n",
       "811                                                NaN   \n",
       "905                                                NaN   \n",
       "\n",
       "variable  average_acceleration__autocorrelation__lag_7  \\\n",
       "id                                                       \n",
       "312                                                NaN   \n",
       "511                                                NaN   \n",
       "607                                                NaN   \n",
       "811                                                NaN   \n",
       "905                                                NaN   \n",
       "\n",
       "variable  average_acceleration__autocorrelation__lag_8  \\\n",
       "id                                                       \n",
       "312                                                NaN   \n",
       "511                                                NaN   \n",
       "607                                                NaN   \n",
       "811                                                NaN   \n",
       "905                                                NaN   \n",
       "\n",
       "variable  average_acceleration__autocorrelation__lag_9  \\\n",
       "id                                                       \n",
       "312                                                NaN   \n",
       "511                                                NaN   \n",
       "607                                                NaN   \n",
       "811                                                NaN   \n",
       "905                                                NaN   \n",
       "\n",
       "variable            ...              y__autocorrelation__lag_0  \\\n",
       "id                  ...                                          \n",
       "312                 ...                                    1.0   \n",
       "511                 ...                                    1.0   \n",
       "607                 ...                                    1.0   \n",
       "811                 ...                                    1.0   \n",
       "905                 ...                                    NaN   \n",
       "\n",
       "variable  y__autocorrelation__lag_1  y__autocorrelation__lag_2  \\\n",
       "id                                                               \n",
       "312                         -0.0056                    -1.4887   \n",
       "511                         -0.0068                    -1.4865   \n",
       "607                         -0.2500                    -1.0000   \n",
       "811                         -0.0007                    -1.4987   \n",
       "905                             NaN                        NaN   \n",
       "\n",
       "variable  y__autocorrelation__lag_3  y__autocorrelation__lag_4  \\\n",
       "id                                                               \n",
       "312                             NaN                        NaN   \n",
       "511                             NaN                        NaN   \n",
       "607                             NaN                        NaN   \n",
       "811                             NaN                        NaN   \n",
       "905                             NaN                        NaN   \n",
       "\n",
       "variable  y__autocorrelation__lag_5  y__autocorrelation__lag_6  \\\n",
       "id                                                               \n",
       "312                             NaN                        NaN   \n",
       "511                             NaN                        NaN   \n",
       "607                             NaN                        NaN   \n",
       "811                             NaN                        NaN   \n",
       "905                             NaN                        NaN   \n",
       "\n",
       "variable  y__autocorrelation__lag_7  y__autocorrelation__lag_8  \\\n",
       "id                                                               \n",
       "312                             NaN                        NaN   \n",
       "511                             NaN                        NaN   \n",
       "607                             NaN                        NaN   \n",
       "811                             NaN                        NaN   \n",
       "905                             NaN                        NaN   \n",
       "\n",
       "variable  y__autocorrelation__lag_9  \n",
       "id                                   \n",
       "312                             NaN  \n",
       "511                             NaN  \n",
       "607                             NaN  \n",
       "811                             NaN  \n",
       "905                             NaN  \n",
       "\n",
       "[5 rows x 60 columns]"
      ]
     },
     "execution_count": 121,
     "metadata": {},
     "output_type": "execute_result"
    }
   ],
   "source": [
    "ts_feats"
   ]
  },
  {
   "cell_type": "code",
   "execution_count": 122,
   "metadata": {},
   "outputs": [],
   "source": [
    "ts_feat = ts_feat.rename_axis('variable', axis = 1)\n",
    "ts_feat = ts_feat.rename_axis(\"id\", axis = 0)"
   ]
  },
  {
   "cell_type": "code",
   "execution_count": 128,
   "metadata": {},
   "outputs": [
    {
     "data": {
      "text/plain": [
       "variable\n",
       "average_acceleration__autocorrelation__lag_0    float64\n",
       "average_acceleration__autocorrelation__lag_1    float64\n",
       "average_acceleration__autocorrelation__lag_2    float64\n",
       "average_acceleration__autocorrelation__lag_3    float64\n",
       "average_acceleration__autocorrelation__lag_4    float64\n",
       "average_acceleration__autocorrelation__lag_5    float64\n",
       "average_acceleration__autocorrelation__lag_6    float64\n",
       "average_acceleration__autocorrelation__lag_7    float64\n",
       "average_acceleration__autocorrelation__lag_8    float64\n",
       "average_acceleration__autocorrelation__lag_9    float64\n",
       "average_speed__autocorrelation__lag_0           float64\n",
       "average_speed__autocorrelation__lag_1           float64\n",
       "average_speed__autocorrelation__lag_2           float64\n",
       "average_speed__autocorrelation__lag_3           float64\n",
       "average_speed__autocorrelation__lag_4           float64\n",
       "average_speed__autocorrelation__lag_5           float64\n",
       "average_speed__autocorrelation__lag_6           float64\n",
       "average_speed__autocorrelation__lag_7           float64\n",
       "average_speed__autocorrelation__lag_8           float64\n",
       "average_speed__autocorrelation__lag_9           float64\n",
       "direction__autocorrelation__lag_0               float64\n",
       "direction__autocorrelation__lag_1               float64\n",
       "direction__autocorrelation__lag_2               float64\n",
       "direction__autocorrelation__lag_3               float64\n",
       "direction__autocorrelation__lag_4               float64\n",
       "direction__autocorrelation__lag_5               float64\n",
       "direction__autocorrelation__lag_6               float64\n",
       "direction__autocorrelation__lag_7               float64\n",
       "direction__autocorrelation__lag_8               float64\n",
       "direction__autocorrelation__lag_9               float64\n",
       "distance__autocorrelation__lag_0                float64\n",
       "distance__autocorrelation__lag_1                float64\n",
       "distance__autocorrelation__lag_2                float64\n",
       "distance__autocorrelation__lag_3                float64\n",
       "distance__autocorrelation__lag_4                float64\n",
       "distance__autocorrelation__lag_5                float64\n",
       "distance__autocorrelation__lag_6                float64\n",
       "distance__autocorrelation__lag_7                float64\n",
       "distance__autocorrelation__lag_8                float64\n",
       "distance__autocorrelation__lag_9                float64\n",
       "x__autocorrelation__lag_0                       float64\n",
       "x__autocorrelation__lag_1                       float64\n",
       "x__autocorrelation__lag_2                       float64\n",
       "x__autocorrelation__lag_3                       float64\n",
       "x__autocorrelation__lag_4                       float64\n",
       "x__autocorrelation__lag_5                       float64\n",
       "x__autocorrelation__lag_6                       float64\n",
       "x__autocorrelation__lag_7                       float64\n",
       "x__autocorrelation__lag_8                       float64\n",
       "x__autocorrelation__lag_9                       float64\n",
       "y__autocorrelation__lag_0                       float64\n",
       "y__autocorrelation__lag_1                       float64\n",
       "y__autocorrelation__lag_2                       float64\n",
       "y__autocorrelation__lag_3                       float64\n",
       "y__autocorrelation__lag_4                       float64\n",
       "y__autocorrelation__lag_5                       float64\n",
       "y__autocorrelation__lag_6                       float64\n",
       "y__autocorrelation__lag_7                       float64\n",
       "y__autocorrelation__lag_8                       float64\n",
       "y__autocorrelation__lag_9                       float64\n",
       "dtype: object"
      ]
     },
     "execution_count": 128,
     "metadata": {},
     "output_type": "execute_result"
    }
   ],
   "source": [
    "ts_feats.dtypes"
   ]
  },
  {
   "cell_type": "code",
   "execution_count": 136,
   "metadata": {},
   "outputs": [
    {
     "data": {
      "text/plain": [
       "variable\n",
       "average_acceleration__autocorrelation__lag_0    float64\n",
       "average_acceleration__autocorrelation__lag_1    float64\n",
       "average_acceleration__autocorrelation__lag_2    float64\n",
       "average_acceleration__autocorrelation__lag_3    float64\n",
       "average_acceleration__autocorrelation__lag_4    float64\n",
       "average_acceleration__autocorrelation__lag_5    float64\n",
       "average_acceleration__autocorrelation__lag_6    float64\n",
       "average_acceleration__autocorrelation__lag_7    float64\n",
       "average_acceleration__autocorrelation__lag_8    float64\n",
       "average_acceleration__autocorrelation__lag_9    float64\n",
       "average_speed__autocorrelation__lag_0           float64\n",
       "average_speed__autocorrelation__lag_1           float64\n",
       "average_speed__autocorrelation__lag_2           float64\n",
       "average_speed__autocorrelation__lag_3           float64\n",
       "average_speed__autocorrelation__lag_4           float64\n",
       "average_speed__autocorrelation__lag_5           float64\n",
       "average_speed__autocorrelation__lag_6           float64\n",
       "average_speed__autocorrelation__lag_7           float64\n",
       "average_speed__autocorrelation__lag_8           float64\n",
       "average_speed__autocorrelation__lag_9           float64\n",
       "direction__autocorrelation__lag_0               float64\n",
       "direction__autocorrelation__lag_1               float64\n",
       "direction__autocorrelation__lag_2               float64\n",
       "direction__autocorrelation__lag_3               float64\n",
       "direction__autocorrelation__lag_4               float64\n",
       "direction__autocorrelation__lag_5               float64\n",
       "direction__autocorrelation__lag_6               float64\n",
       "direction__autocorrelation__lag_7               float64\n",
       "direction__autocorrelation__lag_8               float64\n",
       "direction__autocorrelation__lag_9               float64\n",
       "distance__autocorrelation__lag_0                float64\n",
       "distance__autocorrelation__lag_1                float64\n",
       "distance__autocorrelation__lag_2                float64\n",
       "distance__autocorrelation__lag_3                float64\n",
       "distance__autocorrelation__lag_4                float64\n",
       "distance__autocorrelation__lag_5                float64\n",
       "distance__autocorrelation__lag_6                float64\n",
       "distance__autocorrelation__lag_7                float64\n",
       "distance__autocorrelation__lag_8                float64\n",
       "distance__autocorrelation__lag_9                float64\n",
       "x__autocorrelation__lag_0                       float64\n",
       "x__autocorrelation__lag_1                       float64\n",
       "x__autocorrelation__lag_2                       float64\n",
       "x__autocorrelation__lag_3                       float64\n",
       "x__autocorrelation__lag_4                       float64\n",
       "x__autocorrelation__lag_5                       float64\n",
       "x__autocorrelation__lag_6                       float64\n",
       "x__autocorrelation__lag_7                       float64\n",
       "x__autocorrelation__lag_8                       float64\n",
       "x__autocorrelation__lag_9                       float64\n",
       "y__autocorrelation__lag_0                       float64\n",
       "y__autocorrelation__lag_1                       float64\n",
       "y__autocorrelation__lag_2                       float64\n",
       "y__autocorrelation__lag_3                       float64\n",
       "y__autocorrelation__lag_4                       float64\n",
       "y__autocorrelation__lag_5                       float64\n",
       "y__autocorrelation__lag_6                       float64\n",
       "y__autocorrelation__lag_7                       float64\n",
       "y__autocorrelation__lag_8                       float64\n",
       "y__autocorrelation__lag_9                       float64\n",
       "dtype: object"
      ]
     },
     "execution_count": 136,
     "metadata": {},
     "output_type": "execute_result"
    }
   ],
   "source": [
    "ts_feats.astype('float64').dtypes"
   ]
  },
  {
   "cell_type": "code",
   "execution_count": 137,
   "metadata": {},
   "outputs": [
    {
     "data": {
      "text/plain": [
       "variable\n",
       "average_acceleration__autocorrelation__lag_0    float64\n",
       "average_acceleration__autocorrelation__lag_1    float64\n",
       "average_acceleration__autocorrelation__lag_2    float64\n",
       "average_acceleration__autocorrelation__lag_3    float64\n",
       "average_acceleration__autocorrelation__lag_4    float64\n",
       "average_acceleration__autocorrelation__lag_5    float64\n",
       "average_acceleration__autocorrelation__lag_6    float64\n",
       "average_acceleration__autocorrelation__lag_7    float64\n",
       "average_acceleration__autocorrelation__lag_8    float64\n",
       "average_acceleration__autocorrelation__lag_9    float64\n",
       "average_speed__autocorrelation__lag_0           float64\n",
       "average_speed__autocorrelation__lag_1           float64\n",
       "average_speed__autocorrelation__lag_2           float64\n",
       "average_speed__autocorrelation__lag_3           float64\n",
       "average_speed__autocorrelation__lag_4           float64\n",
       "average_speed__autocorrelation__lag_5           float64\n",
       "average_speed__autocorrelation__lag_6           float64\n",
       "average_speed__autocorrelation__lag_7           float64\n",
       "average_speed__autocorrelation__lag_8           float64\n",
       "average_speed__autocorrelation__lag_9           float64\n",
       "direction__autocorrelation__lag_0               float64\n",
       "direction__autocorrelation__lag_1               float64\n",
       "direction__autocorrelation__lag_2               float64\n",
       "direction__autocorrelation__lag_3               float64\n",
       "direction__autocorrelation__lag_4               float64\n",
       "direction__autocorrelation__lag_5               float64\n",
       "direction__autocorrelation__lag_6               float64\n",
       "direction__autocorrelation__lag_7               float64\n",
       "direction__autocorrelation__lag_8               float64\n",
       "direction__autocorrelation__lag_9               float64\n",
       "distance__autocorrelation__lag_0                float64\n",
       "distance__autocorrelation__lag_1                float64\n",
       "distance__autocorrelation__lag_2                float64\n",
       "distance__autocorrelation__lag_3                float64\n",
       "distance__autocorrelation__lag_4                float64\n",
       "distance__autocorrelation__lag_5                float64\n",
       "distance__autocorrelation__lag_6                float64\n",
       "distance__autocorrelation__lag_7                float64\n",
       "distance__autocorrelation__lag_8                float64\n",
       "distance__autocorrelation__lag_9                float64\n",
       "x__autocorrelation__lag_0                       float64\n",
       "x__autocorrelation__lag_1                       float64\n",
       "x__autocorrelation__lag_2                       float64\n",
       "x__autocorrelation__lag_3                       float64\n",
       "x__autocorrelation__lag_4                       float64\n",
       "x__autocorrelation__lag_5                       float64\n",
       "x__autocorrelation__lag_6                       float64\n",
       "x__autocorrelation__lag_7                       float64\n",
       "x__autocorrelation__lag_8                       float64\n",
       "x__autocorrelation__lag_9                       float64\n",
       "y__autocorrelation__lag_0                       float64\n",
       "y__autocorrelation__lag_1                       float64\n",
       "y__autocorrelation__lag_2                       float64\n",
       "y__autocorrelation__lag_3                       float64\n",
       "y__autocorrelation__lag_4                       float64\n",
       "y__autocorrelation__lag_5                       float64\n",
       "y__autocorrelation__lag_6                       float64\n",
       "y__autocorrelation__lag_7                       float64\n",
       "y__autocorrelation__lag_8                       float64\n",
       "y__autocorrelation__lag_9                       float64\n",
       "dtype: object"
      ]
     },
     "execution_count": 137,
     "metadata": {},
     "output_type": "execute_result"
    }
   ],
   "source": [
    "ts_feats.dtypes"
   ]
  },
  {
   "cell_type": "code",
   "execution_count": 79,
   "metadata": {},
   "outputs": [
    {
     "data": {
      "text/plain": [
       "Int64Index([312, 511, 607, 811, 905], dtype='int64', name='id')"
      ]
     },
     "execution_count": 79,
     "metadata": {},
     "output_type": "execute_result"
    }
   ],
   "source": [
    "ts_feats.index"
   ]
  },
  {
   "cell_type": "code",
   "execution_count": 47,
   "metadata": {},
   "outputs": [
    {
     "name": "stdout",
     "output_type": "stream",
     "text": [
      "{'average_acceleration__autocorrelation__lag_0': {312: 1.0, 511: 1.0, 607: 1.0, 811: 1.0, 905: 1.0}, 'average_acceleration__autocorrelation__lag_1': {312: -0.9687, 511: -0.9436, 607: -1.0, 811: -0.9999, 905: -0.9758}, 'average_acceleration__autocorrelation__lag_2': {312: 0.4373, 511: 0.3871, 607: 0.4999, 811: 0.4998, 905: 0.4516}, 'average_acceleration__autocorrelation__lag_3': {312: nan, 511: nan, 607: nan, 811: nan, 905: nan}, 'average_acceleration__autocorrelation__lag_4': {312: nan, 511: nan, 607: nan, 811: nan, 905: nan}, 'average_acceleration__autocorrelation__lag_5': {312: nan, 511: nan, 607: nan, 811: nan, 905: nan}, 'average_acceleration__autocorrelation__lag_6': {312: nan, 511: nan, 607: nan, 811: nan, 905: nan}, 'average_acceleration__autocorrelation__lag_7': {312: nan, 511: nan, 607: nan, 811: nan, 905: nan}, 'average_acceleration__autocorrelation__lag_8': {312: nan, 511: nan, 607: nan, 811: nan, 905: nan}, 'average_acceleration__autocorrelation__lag_9': {312: nan, 511: nan, 607: nan, 811: nan, 905: nan}, 'average_speed__autocorrelation__lag_0': {312: 1.0, 511: 1.0, 607: 1.0, 811: 1.0, 905: 1.0}, 'average_speed__autocorrelation__lag_1': {312: -0.4615, 511: -0.5665, 607: -0.2444, 811: -0.2586, 905: -0.4286}, 'average_speed__autocorrelation__lag_2': {312: -0.5771, 511: -0.367, 607: -1.0112, 811: -0.9828, 905: -0.6429}, 'average_speed__autocorrelation__lag_3': {312: nan, 511: nan, 607: nan, 811: nan, 905: nan}, 'average_speed__autocorrelation__lag_4': {312: nan, 511: nan, 607: nan, 811: nan, 905: nan}, 'average_speed__autocorrelation__lag_5': {312: nan, 511: nan, 607: nan, 811: nan, 905: nan}, 'average_speed__autocorrelation__lag_6': {312: nan, 511: nan, 607: nan, 811: nan, 905: nan}, 'average_speed__autocorrelation__lag_7': {312: nan, 511: nan, 607: nan, 811: nan, 905: nan}, 'average_speed__autocorrelation__lag_8': {312: nan, 511: nan, 607: nan, 811: nan, 905: nan}, 'average_speed__autocorrelation__lag_9': {312: nan, 511: nan, 607: nan, 811: nan, 905: nan}, 'direction__autocorrelation__lag_0': {312: 1.0, 511: 1.0, 607: 1.0, 811: 1.0, 905: 1.0}, 'direction__autocorrelation__lag_1': {312: -0.2256, 511: -0.053, 607: -0.76, 811: -0.1587, 905: -0.25}, 'direction__autocorrelation__lag_2': {312: -1.0489, 511: -1.394, 607: 0.0201, 811: -1.1826, 905: -1.0}, 'direction__autocorrelation__lag_3': {312: nan, 511: nan, 607: nan, 811: nan, 905: nan}, 'direction__autocorrelation__lag_4': {312: nan, 511: nan, 607: nan, 811: nan, 905: nan}, 'direction__autocorrelation__lag_5': {312: nan, 511: nan, 607: nan, 811: nan, 905: nan}, 'direction__autocorrelation__lag_6': {312: nan, 511: nan, 607: nan, 811: nan, 905: nan}, 'direction__autocorrelation__lag_7': {312: nan, 511: nan, 607: nan, 811: nan, 905: nan}, 'direction__autocorrelation__lag_8': {312: nan, 511: nan, 607: nan, 811: nan, 905: nan}, 'direction__autocorrelation__lag_9': {312: nan, 511: nan, 607: nan, 811: nan, 905: nan}, 'distance__autocorrelation__lag_0': {312: 1.0, 511: 1.0, 607: 1.0, 811: 1.0, 905: 1.0}, 'distance__autocorrelation__lag_1': {312: -0.4615, 511: -0.5665, 607: -0.2444, 811: -0.2586, 905: -0.4286}, 'distance__autocorrelation__lag_2': {312: -0.5771, 511: -0.367, 607: -1.0112, 811: -0.9828, 905: -0.6429}, 'distance__autocorrelation__lag_3': {312: nan, 511: nan, 607: nan, 811: nan, 905: nan}, 'distance__autocorrelation__lag_4': {312: nan, 511: nan, 607: nan, 811: nan, 905: nan}, 'distance__autocorrelation__lag_5': {312: nan, 511: nan, 607: nan, 811: nan, 905: nan}, 'distance__autocorrelation__lag_6': {312: nan, 511: nan, 607: nan, 811: nan, 905: nan}, 'distance__autocorrelation__lag_7': {312: nan, 511: nan, 607: nan, 811: nan, 905: nan}, 'distance__autocorrelation__lag_8': {312: nan, 511: nan, 607: nan, 811: nan, 905: nan}, 'distance__autocorrelation__lag_9': {312: nan, 511: nan, 607: nan, 811: nan, 905: nan}, 'x__autocorrelation__lag_0': {312: 1.0, 511: 1.0, 607: 1.0, 811: 1.0, 905: 1.0}, 'x__autocorrelation__lag_1': {312: -0.25, 511: -0.25, 607: 0.0, 811: -0.0014, 905: -0.0041}, 'x__autocorrelation__lag_2': {312: -1.0, 511: -1.0, 607: -1.5, 811: -1.4972, 905: -1.4918}, 'x__autocorrelation__lag_3': {312: nan, 511: nan, 607: nan, 811: nan, 905: nan}, 'x__autocorrelation__lag_4': {312: nan, 511: nan, 607: nan, 811: nan, 905: nan}, 'x__autocorrelation__lag_5': {312: nan, 511: nan, 607: nan, 811: nan, 905: nan}, 'x__autocorrelation__lag_6': {312: nan, 511: nan, 607: nan, 811: nan, 905: nan}, 'x__autocorrelation__lag_7': {312: nan, 511: nan, 607: nan, 811: nan, 905: nan}, 'x__autocorrelation__lag_8': {312: nan, 511: nan, 607: nan, 811: nan, 905: nan}, 'x__autocorrelation__lag_9': {312: nan, 511: nan, 607: nan, 811: nan, 905: nan}, 'y__autocorrelation__lag_0': {312: 1.0, 511: 1.0, 607: 1.0, 811: 1.0, 905: nan}, 'y__autocorrelation__lag_1': {312: -0.0056, 511: -0.0068, 607: -0.25, 811: -0.0007, 905: nan}, 'y__autocorrelation__lag_2': {312: -1.4887, 511: -1.4865, 607: -1.0, 811: -1.4987, 905: nan}, 'y__autocorrelation__lag_3': {312: nan, 511: nan, 607: nan, 811: nan, 905: nan}, 'y__autocorrelation__lag_4': {312: nan, 511: nan, 607: nan, 811: nan, 905: nan}, 'y__autocorrelation__lag_5': {312: nan, 511: nan, 607: nan, 811: nan, 905: nan}, 'y__autocorrelation__lag_6': {312: nan, 511: nan, 607: nan, 811: nan, 905: nan}, 'y__autocorrelation__lag_7': {312: nan, 511: nan, 607: nan, 811: nan, 905: nan}, 'y__autocorrelation__lag_8': {312: nan, 511: nan, 607: nan, 811: nan, 905: nan}, 'y__autocorrelation__lag_9': {312: nan, 511: nan, 607: nan, 811: nan, 905: nan}}\n"
     ]
    }
   ],
   "source": [
    "print(ts_feats.to_dict())"
   ]
  },
  {
   "cell_type": "code",
   "execution_count": 49,
   "metadata": {},
   "outputs": [
    {
     "data": {
      "text/plain": [
       "{'average_acceleration__autocorrelation__lag_0': {312: 1.0,\n",
       "  511: 1.0,\n",
       "  607: 1.0,\n",
       "  811: 1.0,\n",
       "  905: 1.0},\n",
       " 'average_acceleration__autocorrelation__lag_1': {312: -0.9687,\n",
       "  511: -0.9436,\n",
       "  607: -1.0,\n",
       "  811: -0.9999,\n",
       "  905: -0.9758},\n",
       " 'average_acceleration__autocorrelation__lag_2': {312: 0.4373,\n",
       "  511: 0.3871,\n",
       "  607: 0.4999,\n",
       "  811: 0.4998,\n",
       "  905: 0.4516},\n",
       " 'average_acceleration__autocorrelation__lag_3': {312: None,\n",
       "  511: None,\n",
       "  607: None,\n",
       "  811: None,\n",
       "  905: None},\n",
       " 'average_acceleration__autocorrelation__lag_4': {312: None,\n",
       "  511: None,\n",
       "  607: None,\n",
       "  811: None,\n",
       "  905: None},\n",
       " 'average_acceleration__autocorrelation__lag_5': {312: None,\n",
       "  511: None,\n",
       "  607: None,\n",
       "  811: None,\n",
       "  905: None},\n",
       " 'average_acceleration__autocorrelation__lag_6': {312: None,\n",
       "  511: None,\n",
       "  607: None,\n",
       "  811: None,\n",
       "  905: None},\n",
       " 'average_acceleration__autocorrelation__lag_7': {312: None,\n",
       "  511: None,\n",
       "  607: None,\n",
       "  811: None,\n",
       "  905: None},\n",
       " 'average_acceleration__autocorrelation__lag_8': {312: None,\n",
       "  511: None,\n",
       "  607: None,\n",
       "  811: None,\n",
       "  905: None},\n",
       " 'average_acceleration__autocorrelation__lag_9': {312: None,\n",
       "  511: None,\n",
       "  607: None,\n",
       "  811: None,\n",
       "  905: None},\n",
       " 'average_speed__autocorrelation__lag_0': {312: 1.0,\n",
       "  511: 1.0,\n",
       "  607: 1.0,\n",
       "  811: 1.0,\n",
       "  905: 1.0},\n",
       " 'average_speed__autocorrelation__lag_1': {312: -0.4615,\n",
       "  511: -0.5665,\n",
       "  607: -0.2444,\n",
       "  811: -0.2586,\n",
       "  905: -0.4286},\n",
       " 'average_speed__autocorrelation__lag_2': {312: -0.5771,\n",
       "  511: -0.367,\n",
       "  607: -1.0112,\n",
       "  811: -0.9828,\n",
       "  905: -0.6429},\n",
       " 'average_speed__autocorrelation__lag_3': {312: None,\n",
       "  511: None,\n",
       "  607: None,\n",
       "  811: None,\n",
       "  905: None},\n",
       " 'average_speed__autocorrelation__lag_4': {312: None,\n",
       "  511: None,\n",
       "  607: None,\n",
       "  811: None,\n",
       "  905: None},\n",
       " 'average_speed__autocorrelation__lag_5': {312: None,\n",
       "  511: None,\n",
       "  607: None,\n",
       "  811: None,\n",
       "  905: None},\n",
       " 'average_speed__autocorrelation__lag_6': {312: None,\n",
       "  511: None,\n",
       "  607: None,\n",
       "  811: None,\n",
       "  905: None},\n",
       " 'average_speed__autocorrelation__lag_7': {312: None,\n",
       "  511: None,\n",
       "  607: None,\n",
       "  811: None,\n",
       "  905: None},\n",
       " 'average_speed__autocorrelation__lag_8': {312: None,\n",
       "  511: None,\n",
       "  607: None,\n",
       "  811: None,\n",
       "  905: None},\n",
       " 'average_speed__autocorrelation__lag_9': {312: None,\n",
       "  511: None,\n",
       "  607: None,\n",
       "  811: None,\n",
       "  905: None},\n",
       " 'direction__autocorrelation__lag_0': {312: 1.0,\n",
       "  511: 1.0,\n",
       "  607: 1.0,\n",
       "  811: 1.0,\n",
       "  905: 1.0},\n",
       " 'direction__autocorrelation__lag_1': {312: -0.2256,\n",
       "  511: -0.053,\n",
       "  607: -0.76,\n",
       "  811: -0.1587,\n",
       "  905: -0.25},\n",
       " 'direction__autocorrelation__lag_2': {312: -1.0489,\n",
       "  511: -1.394,\n",
       "  607: 0.0201,\n",
       "  811: -1.1826,\n",
       "  905: -1.0},\n",
       " 'direction__autocorrelation__lag_3': {312: None,\n",
       "  511: None,\n",
       "  607: None,\n",
       "  811: None,\n",
       "  905: None},\n",
       " 'direction__autocorrelation__lag_4': {312: None,\n",
       "  511: None,\n",
       "  607: None,\n",
       "  811: None,\n",
       "  905: None},\n",
       " 'direction__autocorrelation__lag_5': {312: None,\n",
       "  511: None,\n",
       "  607: None,\n",
       "  811: None,\n",
       "  905: None},\n",
       " 'direction__autocorrelation__lag_6': {312: None,\n",
       "  511: None,\n",
       "  607: None,\n",
       "  811: None,\n",
       "  905: None},\n",
       " 'direction__autocorrelation__lag_7': {312: None,\n",
       "  511: None,\n",
       "  607: None,\n",
       "  811: None,\n",
       "  905: None},\n",
       " 'direction__autocorrelation__lag_8': {312: None,\n",
       "  511: None,\n",
       "  607: None,\n",
       "  811: None,\n",
       "  905: None},\n",
       " 'direction__autocorrelation__lag_9': {312: None,\n",
       "  511: None,\n",
       "  607: None,\n",
       "  811: None,\n",
       "  905: None},\n",
       " 'distance__autocorrelation__lag_0': {312: 1.0,\n",
       "  511: 1.0,\n",
       "  607: 1.0,\n",
       "  811: 1.0,\n",
       "  905: 1.0},\n",
       " 'distance__autocorrelation__lag_1': {312: -0.4615,\n",
       "  511: -0.5665,\n",
       "  607: -0.2444,\n",
       "  811: -0.2586,\n",
       "  905: -0.4286},\n",
       " 'distance__autocorrelation__lag_2': {312: -0.5771,\n",
       "  511: -0.367,\n",
       "  607: -1.0112,\n",
       "  811: -0.9828,\n",
       "  905: -0.6429},\n",
       " 'distance__autocorrelation__lag_3': {312: None,\n",
       "  511: None,\n",
       "  607: None,\n",
       "  811: None,\n",
       "  905: None},\n",
       " 'distance__autocorrelation__lag_4': {312: None,\n",
       "  511: None,\n",
       "  607: None,\n",
       "  811: None,\n",
       "  905: None},\n",
       " 'distance__autocorrelation__lag_5': {312: None,\n",
       "  511: None,\n",
       "  607: None,\n",
       "  811: None,\n",
       "  905: None},\n",
       " 'distance__autocorrelation__lag_6': {312: None,\n",
       "  511: None,\n",
       "  607: None,\n",
       "  811: None,\n",
       "  905: None},\n",
       " 'distance__autocorrelation__lag_7': {312: None,\n",
       "  511: None,\n",
       "  607: None,\n",
       "  811: None,\n",
       "  905: None},\n",
       " 'distance__autocorrelation__lag_8': {312: None,\n",
       "  511: None,\n",
       "  607: None,\n",
       "  811: None,\n",
       "  905: None},\n",
       " 'distance__autocorrelation__lag_9': {312: None,\n",
       "  511: None,\n",
       "  607: None,\n",
       "  811: None,\n",
       "  905: None},\n",
       " 'x__autocorrelation__lag_0': {312: 1.0,\n",
       "  511: 1.0,\n",
       "  607: 1.0,\n",
       "  811: 1.0,\n",
       "  905: 1.0},\n",
       " 'x__autocorrelation__lag_1': {312: -0.25,\n",
       "  511: -0.25,\n",
       "  607: 0.0,\n",
       "  811: -0.0014,\n",
       "  905: -0.0041},\n",
       " 'x__autocorrelation__lag_2': {312: -1.0,\n",
       "  511: -1.0,\n",
       "  607: -1.5,\n",
       "  811: -1.4972,\n",
       "  905: -1.4918},\n",
       " 'x__autocorrelation__lag_3': {312: None,\n",
       "  511: None,\n",
       "  607: None,\n",
       "  811: None,\n",
       "  905: None},\n",
       " 'x__autocorrelation__lag_4': {312: None,\n",
       "  511: None,\n",
       "  607: None,\n",
       "  811: None,\n",
       "  905: None},\n",
       " 'x__autocorrelation__lag_5': {312: None,\n",
       "  511: None,\n",
       "  607: None,\n",
       "  811: None,\n",
       "  905: None},\n",
       " 'x__autocorrelation__lag_6': {312: None,\n",
       "  511: None,\n",
       "  607: None,\n",
       "  811: None,\n",
       "  905: None},\n",
       " 'x__autocorrelation__lag_7': {312: None,\n",
       "  511: None,\n",
       "  607: None,\n",
       "  811: None,\n",
       "  905: None},\n",
       " 'x__autocorrelation__lag_8': {312: None,\n",
       "  511: None,\n",
       "  607: None,\n",
       "  811: None,\n",
       "  905: None},\n",
       " 'x__autocorrelation__lag_9': {312: None,\n",
       "  511: None,\n",
       "  607: None,\n",
       "  811: None,\n",
       "  905: None},\n",
       " 'y__autocorrelation__lag_0': {312: 1.0,\n",
       "  511: 1.0,\n",
       "  607: 1.0,\n",
       "  811: 1.0,\n",
       "  905: None},\n",
       " 'y__autocorrelation__lag_1': {312: -0.0056,\n",
       "  511: -0.0068,\n",
       "  607: -0.25,\n",
       "  811: -0.0007,\n",
       "  905: None},\n",
       " 'y__autocorrelation__lag_2': {312: -1.4887,\n",
       "  511: -1.4865,\n",
       "  607: -1.0,\n",
       "  811: -1.4987,\n",
       "  905: None},\n",
       " 'y__autocorrelation__lag_3': {312: None,\n",
       "  511: None,\n",
       "  607: None,\n",
       "  811: None,\n",
       "  905: None},\n",
       " 'y__autocorrelation__lag_4': {312: None,\n",
       "  511: None,\n",
       "  607: None,\n",
       "  811: None,\n",
       "  905: None},\n",
       " 'y__autocorrelation__lag_5': {312: None,\n",
       "  511: None,\n",
       "  607: None,\n",
       "  811: None,\n",
       "  905: None},\n",
       " 'y__autocorrelation__lag_6': {312: None,\n",
       "  511: None,\n",
       "  607: None,\n",
       "  811: None,\n",
       "  905: None},\n",
       " 'y__autocorrelation__lag_7': {312: None,\n",
       "  511: None,\n",
       "  607: None,\n",
       "  811: None,\n",
       "  905: None},\n",
       " 'y__autocorrelation__lag_8': {312: None,\n",
       "  511: None,\n",
       "  607: None,\n",
       "  811: None,\n",
       "  905: None},\n",
       " 'y__autocorrelation__lag_9': {312: None,\n",
       "  511: None,\n",
       "  607: None,\n",
       "  811: None,\n",
       "  905: None}}"
      ]
     },
     "execution_count": 49,
     "metadata": {},
     "output_type": "execute_result"
    }
   ],
   "source": [
    "{'average_acceleration__autocorrelation__lag_0': {312: 1.0, 511: 1.0, 607: 1.0, 811: 1.0, 905: 1.0}, 'average_acceleration__autocorrelation__lag_1': {312: -0.9687, 511: -0.9436, 607: -1.0, 811: -0.9999, 905: -0.9758}, 'average_acceleration__autocorrelation__lag_2': {312: 0.4373, 511: 0.3871, 607: 0.4999, 811: 0.4998, 905: 0.4516}, 'average_acceleration__autocorrelation__lag_3': {312: None, 511: None, 607: None, 811: None, 905: None}, 'average_acceleration__autocorrelation__lag_4': {312: None, 511: None, 607: None, 811: None, 905: None}, 'average_acceleration__autocorrelation__lag_5': {312: None, 511: None, 607: None, 811: None, 905: None}, 'average_acceleration__autocorrelation__lag_6': {312: None, 511: None, 607: None, 811: None, 905: None}, 'average_acceleration__autocorrelation__lag_7': {312: None, 511: None, 607: None, 811: None, 905: None}, 'average_acceleration__autocorrelation__lag_8': {312: None, 511: None, 607: None, 811: None, 905: None}, 'average_acceleration__autocorrelation__lag_9': {312: None, 511: None, 607: None, 811: None, 905: None}, 'average_speed__autocorrelation__lag_0': {312: 1.0, 511: 1.0, 607: 1.0, 811: 1.0, 905: 1.0}, 'average_speed__autocorrelation__lag_1': {312: -0.4615, 511: -0.5665, 607: -0.2444, 811: -0.2586, 905: -0.4286}, 'average_speed__autocorrelation__lag_2': {312: -0.5771, 511: -0.367, 607: -1.0112, 811: -0.9828, 905: -0.6429}, 'average_speed__autocorrelation__lag_3': {312: None, 511: None, 607: None, 811: None, 905: None}, 'average_speed__autocorrelation__lag_4': {312: None, 511: None, 607: None, 811: None, 905: None}, 'average_speed__autocorrelation__lag_5': {312: None, 511: None, 607: None, 811: None, 905: None}, 'average_speed__autocorrelation__lag_6': {312: None, 511: None, 607: None, 811: None, 905: None}, 'average_speed__autocorrelation__lag_7': {312: None, 511: None, 607: None, 811: None, 905: None}, 'average_speed__autocorrelation__lag_8': {312: None, 511: None, 607: None, 811: None, 905: None}, 'average_speed__autocorrelation__lag_9': {312: None, 511: None, 607: None, 811: None, 905: None}, 'direction__autocorrelation__lag_0': {312: 1.0, 511: 1.0, 607: 1.0, 811: 1.0, 905: 1.0}, 'direction__autocorrelation__lag_1': {312: -0.2256, 511: -0.053, 607: -0.76, 811: -0.1587, 905: -0.25}, 'direction__autocorrelation__lag_2': {312: -1.0489, 511: -1.394, 607: 0.0201, 811: -1.1826, 905: -1.0}, 'direction__autocorrelation__lag_3': {312: None, 511: None, 607: None, 811: None, 905: None}, 'direction__autocorrelation__lag_4': {312: None, 511: None, 607: None, 811: None, 905: None}, 'direction__autocorrelation__lag_5': {312: None, 511: None, 607: None, 811: None, 905: None}, 'direction__autocorrelation__lag_6': {312: None, 511: None, 607: None, 811: None, 905: None}, 'direction__autocorrelation__lag_7': {312: None, 511: None, 607: None, 811: None, 905: None}, 'direction__autocorrelation__lag_8': {312: None, 511: None, 607: None, 811: None, 905: None}, 'direction__autocorrelation__lag_9': {312: None, 511: None, 607: None, 811: None, 905: None}, 'distance__autocorrelation__lag_0': {312: 1.0, 511: 1.0, 607: 1.0, 811: 1.0, 905: 1.0}, 'distance__autocorrelation__lag_1': {312: -0.4615, 511: -0.5665, 607: -0.2444, 811: -0.2586, 905: -0.4286}, 'distance__autocorrelation__lag_2': {312: -0.5771, 511: -0.367, 607: -1.0112, 811: -0.9828, 905: -0.6429}, 'distance__autocorrelation__lag_3': {312: None, 511: None, 607: None, 811: None, 905: None}, 'distance__autocorrelation__lag_4': {312: None, 511: None, 607: None, 811: None, 905: None}, 'distance__autocorrelation__lag_5': {312: None, 511: None, 607: None, 811: None, 905: None}, 'distance__autocorrelation__lag_6': {312: None, 511: None, 607: None, 811: None, 905: None}, 'distance__autocorrelation__lag_7': {312: None, 511: None, 607: None, 811: None, 905: None}, 'distance__autocorrelation__lag_8': {312: None, 511: None, 607: None, 811: None, 905: None}, 'distance__autocorrelation__lag_9': {312: None, 511: None, 607: None, 811: None, 905: None}, 'x__autocorrelation__lag_0': {312: 1.0, 511: 1.0, 607: 1.0, 811: 1.0, 905: 1.0}, 'x__autocorrelation__lag_1': {312: -0.25, 511: -0.25, 607: 0.0, 811: -0.0014, 905: -0.0041}, 'x__autocorrelation__lag_2': {312: -1.0, 511: -1.0, 607: -1.5, 811: -1.4972, 905: -1.4918}, 'x__autocorrelation__lag_3': {312: None, 511: None, 607: None, 811: None, 905: None}, 'x__autocorrelation__lag_4': {312: None, 511: None, 607: None, 811: None, 905: None}, 'x__autocorrelation__lag_5': {312: None, 511: None, 607: None, 811: None, 905: None}, 'x__autocorrelation__lag_6': {312: None, 511: None, 607: None, 811: None, 905: None}, 'x__autocorrelation__lag_7': {312: None, 511: None, 607: None, 811: None, 905: None}, 'x__autocorrelation__lag_8': {312: None, 511: None, 607: None, 811: None, 905: None}, 'x__autocorrelation__lag_9': {312: None, 511: None, 607: None, 811: None, 905: None}, 'y__autocorrelation__lag_0': {312: 1.0, 511: 1.0, 607: 1.0, 811: 1.0, 905: None}, 'y__autocorrelation__lag_1': {312: -0.0056, 511: -0.0068, 607: -0.25, 811: -0.0007, 905: None}, 'y__autocorrelation__lag_2': {312: -1.4887, 511: -1.4865, 607: -1.0, 811: -1.4987, 905: None}, 'y__autocorrelation__lag_3': {312: None, 511: None, 607: None, 811: None, 905: None}, 'y__autocorrelation__lag_4': {312: None, 511: None, 607: None, 811: None, 905: None}, 'y__autocorrelation__lag_5': {312: None, 511: None, 607: None, 811: None, 905: None}, 'y__autocorrelation__lag_6': {312: None, 511: None, 607: None, 811: None, 905: None}, 'y__autocorrelation__lag_7': {312: None, 511: None, 607: None, 811: None, 905: None}, 'y__autocorrelation__lag_8': {312: None, 511: None, 607: None, 811: None, 905: None}, 'y__autocorrelation__lag_9': {312: None, 511: None, 607: None, 811: None, 905: None}}"
   ]
  },
  {
   "cell_type": "code",
   "execution_count": null,
   "metadata": {},
   "outputs": [],
   "source": [
    "{'time': {0: 1, 1: 2, 2: 3, 3: 1, 4: 2, 5: 3, 6: 1, 7: 2, 8: 3, 9: 1, 10: 2, 11: 3, 12: 1, 13: 2, 14: 3}, \n",
    " 'animal_id': {0: 312, 1: 312, 2: 312, 3: 511, 4: 511, 5: 511, 6: 607, 7: 607, 8: 607, 9: 811, 10: 811, 11: 811, 12: 905, 13: 905, 14: 905}, \n",
    " 'x': {0: 405.29, 1: 405.31, 2: 405.31, 3: 369.99, 4: 370.01, 5: 370.01, 6: 390.33, 7: 390.25, 8: 390.17, 9: 445.15, 10: 445.48, 11: 445.77, 12: 366.06, 13: 365.86, 14: 365.7}, \n",
    " 'y': {0: 417.76, 1: 417.37, 2: 417.07, 3: 428.78, 4: 428.82, 5: 428.85, 6: 405.89, 7: 405.89, 8: 405.88, 9: 411.94, 10: 412.26, 11: 412.61, 12: 451.76, 13: 451.76, 14: 451.76}, \n",
    " 'distance': {0: 0.0, 1: 0.3905, 2: 0.3, 3: 0.0, 4: 0.0447, 5: 0.03, 6: 0.0, 7: 0.08, 8: 0.0806, 9: 0.0, 10: 0.4597, 11: 0.4545, 12: 0.0, 13: 0.2, 14: 0.16}, \n",
    " 'average_speed': {0: 0.0, 1: 0.3905, 2: 0.3, 3: 0.0, 4: 0.0447, 5: 0.03, 6: 0.0, 7: 0.08, 8: 0.0806, 9: 0.0, 10: 0.4597, 11: 0.4545, 12: 0.0, 13: 0.2, 14: 0.16}, \n",
    " 'average_acceleration': {0: 0.0, 1: 0.3905, 2: -0.0905, 3: 0.0, 4: 0.0447, 5: -0.0147, 6: 0.0, 7: 0.08, 8: 0.0006, 9: 0.0, 10: 0.4597, 11: -0.0051, 12: 0.0, 13: 0.2, 14: -0.04}, \n",
    " 'direction': {0: 0.0, 1: -87.0643, 2: -90.0, 3: 0.0, 4: 63.4349, 5: 90.0, 6: 0.0, 7: 180.0, 8: -172.875, 9: 0.0, 10: 44.1186, 11: 50.3558, 12: 0.0, 13: 180.0, 14: 180.0}, \n",
    " 'stopped': {0: 1, 1: 1, 2: 1, 3: 1, 4: 1, 5: 1, 6: 1, 7: 1, 8: 1, 9: 1, 10: 1, 11: 1, 12: 1, 13: 1, 14: 1}}"
   ]
  },
  {
   "cell_type": "code",
   "execution_count": 177,
   "metadata": {},
   "outputs": [],
   "source": [
    "inp = pd.DataFrame(records)"
   ]
  },
  {
   "cell_type": "code",
   "execution_count": null,
   "metadata": {},
   "outputs": [],
   "source": []
  },
  {
   "cell_type": "code",
   "execution_count": 178,
   "metadata": {},
   "outputs": [],
   "source": [
    "case = euclidean_dist(inp).sort_values(by=[\"time\", \"animal_id\"]).reset_index(drop=True).round(4)"
   ]
  },
  {
   "cell_type": "code",
   "execution_count": 180,
   "metadata": {},
   "outputs": [
    {
     "name": "stdout",
     "output_type": "stream",
     "text": [
      "{'time': {0: 1, 1: 1, 2: 1, 3: 1, 4: 1, 5: 2, 6: 2, 7: 2, 8: 2, 9: 2, 10: 3, 11: 3, 12: 3, 13: 3, 14: 3}, 'animal_id': {0: 312, 1: 511, 2: 607, 3: 811, 4: 905, 5: 312, 6: 511, 7: 607, 8: 811, 9: 905, 10: 312, 11: 511, 12: 607, 13: 811, 14: 905}, 'x': {0: 405.29, 1: 369.99, 2: 390.33, 3: 445.15, 4: 366.06, 5: 405.31, 6: 370.01, 7: 390.25, 8: 445.48, 9: 365.86, 10: 405.31, 11: 370.01, 12: 390.17, 13: 445.77, 14: 365.7}, 'y': {0: 417.76, 1: 428.78, 2: 405.89, 3: 411.94, 4: 451.76, 5: 417.37, 6: 428.82, 7: 405.89, 8: 412.26, 9: 451.76, 10: 417.07, 11: 428.85, 12: 405.88, 13: 412.61, 14: 451.76}, 312: {0: 0.0, 1: 0.502, 2: 0.3191, 3: 0.5137, 4: 0.8884, 5: 0.0, 6: 0.5066, 7: 0.313, 8: 0.5139, 9: 0.897, 10: 0.0, 11: 0.5102, 12: 0.3086, 13: 0.5146, 14: 0.9036}, 511: {0: 0.502, 1: 0.0, 2: 0.5599, 3: 1.0079, 4: 0.5033, 5: 0.5066, 6: 0.0, 7: 0.5601, 8: 1.0093, 9: 0.5027, 10: 0.5102, 11: 0.0, 12: 0.5604, 13: 1.0102, 14: 0.5022}, 607: {0: 0.3191, 1: 0.5599, 2: 0.0, 3: 0.6972, 4: 1.0447, 5: 0.313, 6: 0.5601, 7: 0.0, 8: 0.7036, 9: 1.0452, 10: 0.3086, 11: 0.5604, 12: 0.0, 13: 0.7097, 14: 1.0457}, 811: {0: 0.5137, 1: 1.0079, 2: 0.6972, 3: 0.0, 4: 1.3149, 5: 0.5139, 6: 1.0093, 7: 0.7036, 8: 0.0, 9: 1.3153, 10: 0.5146, 11: 1.0102, 12: 0.7097, 13: 0.0, 14: 1.3146}, 905: {0: 0.8884, 1: 0.5033, 2: 1.0447, 3: 1.3149, 4: 0.0, 5: 0.897, 6: 0.5027, 7: 1.0452, 8: 1.3153, 9: 0.0, 10: 0.9036, 11: 0.5022, 12: 1.0457, 13: 1.3146, 14: 0.0}}\n"
     ]
    }
   ],
   "source": [
    "print(case.to_dict())"
   ]
  },
  {
   "cell_type": "code",
   "execution_count": 15,
   "metadata": {},
   "outputs": [],
   "source": [
    "dict_groups = {312: pd.DataFrame({'time': {0: 1, 1: 2, 2: 3}, 'animal_id': {0: 312, 1: 312, 2: 312},\n",
    "'x': {0: 405.29, 1: 405.31, 2: 405.31},\n",
    "'y': {0: 417.76, 1: 417.37, 2: 417.07}, 'distance': {0: None, 1: None, 2: None},\n",
    "'average_speed': {0: None, 1: None, 2: None}, 'average_acceleration': {0: None, 1: None, 2: None},\n",
    "'direction': {0: None, 1: None, 2: None}, 'stopped': {0: None, 1: None, 2: None}}),\n",
    "511: pd.DataFrame({'time': {0: 1, 1: 2, 2: 3}, 'animal_id': {0: 511, 1: 511, 2: 511},\n",
    "'x': {0: 369.99, 1: 370.01, 2: 370.01},\n",
    "'y': {0: 428.78, 1: 428.82, 2: 428.85}, 'distance': {0: None, 1: None, 2: None},\n",
    "'average_speed': {0: None, 1: None, 2: None}, 'average_acceleration': {0: None, 1: None, 2: None},\n",
    "'direction': {0: None, 1: None, 2: None}, 'stopped': {0: None, 1: None, 2: None}}),\n",
    "607: pd.DataFrame({'time': {0: 1, 1: 2, 2: 3}, 'animal_id': {0: 607, 1: 607, 2: 607},\n",
    "'x': {0: 390.33, 1: 390.25, 2: 390.17},\n",
    "'y': {0: 405.89, 1: 405.89, 2: 405.88}, 'distance': {0: None, 1: None, 2: None},\n",
    "'average_speed': {0: None, 1: None, 2: None}, 'average_acceleration': {0: None, 1: None, 2: None},\n",
    "'direction': {0: None, 1: None, 2: None}, 'stopped': {0: None, 1: None, 2: None}}),\n",
    "811: pd.DataFrame({'time': {0: 1, 1: 2, 2: 3}, 'animal_id': {0: 811, 1: 811, 2: 811},\n",
    "'x': {0: 445.15, 1: 445.48, 2: 445.77},\n",
    "'y': {0: 411.94, 1: 412.26, 2: 412.61}, 'distance': {0: None, 1: None, 2: None},\n",
    "'average_speed': {0: None, 1: None, 2: None}, 'average_acceleration': {0: None, 1: None, 2: None},\n",
    "'direction': {0: None, 1: None, 2: None}, 'stopped': {0: None, 1: None, 2: None}}),\n",
    "905: pd.DataFrame({'time': {0: 1, 1: 2, 2: 3}, 'animal_id': {0: 905, 1: 905, 2: 905},\n",
    "'x': {0: 366.06, 1: 365.86, 2: 365.7},\n",
    "'y': {0: 451.76, 1: 451.76, 2: 451.76}, 'distance': {0: None, 1: None, 2: None},\n",
    "'average_speed': {0: None, 1: None, 2: None}, 'average_acceleration': {0: None, 1: None, 2: None},\n",
    "'direction': {0: None, 1: None, 2: None}, 'stopped': {0: None, 1: None, 2: None}})}"
   ]
  },
  {
   "cell_type": "code",
   "execution_count": 18,
   "metadata": {},
   "outputs": [
    {
     "data": {
      "text/plain": [
       "{312:    time  animal_id       x       y  distance  average_speed  \\\n",
       " 0     1        312  405.29  417.76  0.000000       0.000000   \n",
       " 1     2        312  405.31  417.37  0.390512       0.390512   \n",
       " 2     3        312  405.31  417.07  0.300000       0.300000   \n",
       " \n",
       "    average_acceleration  direction  stopped  \n",
       " 0                   NaN        NaN        1  \n",
       " 1              0.390512 -87.064327        1  \n",
       " 2             -0.090512 -90.000000        1  ,\n",
       " 511:    time  animal_id       x       y  distance  average_speed  \\\n",
       " 0     1        511  369.99  428.78  0.000000       0.000000   \n",
       " 1     2        511  370.01  428.82  0.044721       0.044721   \n",
       " 2     3        511  370.01  428.85  0.030000       0.030000   \n",
       " \n",
       "    average_acceleration  direction  stopped  \n",
       " 0                   NaN        NaN        1  \n",
       " 1              0.044721  63.434949        1  \n",
       " 2             -0.014721  90.000000        1  ,\n",
       " 607:    time  animal_id       x       y  distance  average_speed  \\\n",
       " 0     1        607  390.33  405.89  0.000000       0.000000   \n",
       " 1     2        607  390.25  405.89  0.080000       0.080000   \n",
       " 2     3        607  390.17  405.88  0.080623       0.080623   \n",
       " \n",
       "    average_acceleration   direction  stopped  \n",
       " 0                   NaN         NaN        1  \n",
       " 1              0.080000  180.000000        1  \n",
       " 2              0.000623 -172.874984        1  ,\n",
       " 811:    time  animal_id       x       y  distance  average_speed  \\\n",
       " 0     1        811  445.15  411.94  0.000000       0.000000   \n",
       " 1     2        811  445.48  412.26  0.459674       0.459674   \n",
       " 2     3        811  445.77  412.61  0.454533       0.454533   \n",
       " \n",
       "    average_acceleration  direction  stopped  \n",
       " 0                   NaN        NaN        1  \n",
       " 1              0.459674  44.118596        1  \n",
       " 2             -0.005141  50.355825        1  ,\n",
       " 905:    time  animal_id       x       y  distance  average_speed  \\\n",
       " 0     1        905  366.06  451.76      0.00           0.00   \n",
       " 1     2        905  365.86  451.76      0.20           0.20   \n",
       " 2     3        905  365.70  451.76      0.16           0.16   \n",
       " \n",
       "    average_acceleration  direction  stopped  \n",
       " 0                   NaN        NaN        1  \n",
       " 1                  0.20      180.0        1  \n",
       " 2                 -0.04      180.0        1  }"
      ]
     },
     "execution_count": 18,
     "metadata": {},
     "output_type": "execute_result"
    }
   ],
   "source": [
    "compute_absolute_features(dict_groups, 1,0.5)"
   ]
  },
  {
   "cell_type": "code",
   "execution_count": 43,
   "metadata": {},
   "outputs": [],
   "source": [
    "distdic = compute_distance_and_direction(dict_groups)"
   ]
  },
  {
   "cell_type": "code",
   "execution_count": null,
   "metadata": {},
   "outputs": [],
   "source": []
  },
  {
   "cell_type": "code",
   "execution_count": 40,
   "metadata": {},
   "outputs": [],
   "source": [
    "distdic = compute_average_speed(distdic, 10)"
   ]
  },
  {
   "cell_type": "code",
   "execution_count": 44,
   "metadata": {},
   "outputs": [
    {
     "name": "stdout",
     "output_type": "stream",
     "text": [
      "{'time': {0: 1, 1: 2, 2: 3}, 'animal_id': {0: 312, 1: 312, 2: 312}, 'x': {0: 405.29, 1: 405.31, 2: 405.31}, 'y': {0: 417.76, 1: 417.37, 2: 417.07}, 'distance': {0: 0.0, 1: 0.39051248379531817, 2: 0.30000000000001137}, 'average_speed': {0: nan, 1: nan, 2: nan}, 'average_acceleration': {0: None, 1: None, 2: None}, 'direction': {0: nan, 1: -87.0643265535814, 2: -90.0}, 'stopped': {0: None, 1: None, 2: None}}\n",
      "{'time': {0: 1, 1: 2, 2: 3}, 'animal_id': {0: 511, 1: 511, 2: 511}, 'x': {0: 369.99, 1: 370.01, 2: 370.01}, 'y': {0: 428.78, 1: 428.82, 2: 428.85}, 'distance': {0: 0.0, 1: 0.04472135955000596, 2: 0.03000000000002956}, 'average_speed': {0: nan, 1: nan, 2: nan}, 'average_acceleration': {0: None, 1: None, 2: None}, 'direction': {0: nan, 1: 63.434948822954574, 2: 90.0}, 'stopped': {0: None, 1: None, 2: None}}\n",
      "{'time': {0: 1, 1: 2, 2: 3}, 'animal_id': {0: 607, 1: 607, 2: 607}, 'x': {0: 390.33, 1: 390.25, 2: 390.17}, 'y': {0: 405.89, 1: 405.89, 2: 405.88}, 'distance': {0: 0.0, 1: 0.07999999999998408, 2: 0.08062257748296858}, 'average_speed': {0: nan, 1: nan, 2: nan}, 'average_acceleration': {0: None, 1: None, 2: None}, 'direction': {0: nan, 1: 180.0, 2: -172.87498365110324}, 'stopped': {0: None, 1: None, 2: None}}\n",
      "{'time': {0: 1, 1: 2, 2: 3}, 'animal_id': {0: 811, 1: 811, 2: 811}, 'x': {0: 445.15, 1: 445.48, 2: 445.77}, 'y': {0: 411.94, 1: 412.26, 2: 412.61}, 'distance': {0: 0.0, 1: 0.45967379738247277, 2: 0.45453272709453474}, 'average_speed': {0: nan, 1: nan, 2: nan}, 'average_acceleration': {0: None, 1: None, 2: None}, 'direction': {0: nan, 1: 44.1185960034137, 2: 50.35582504286055}, 'stopped': {0: None, 1: None, 2: None}}\n",
      "{'time': {0: 1, 1: 2, 2: 3}, 'animal_id': {0: 905, 1: 905, 2: 905}, 'x': {0: 366.06, 1: 365.86, 2: 365.7}, 'y': {0: 451.76, 1: 451.76, 2: 451.76}, 'distance': {0: 0.0, 1: 0.19999999999998863, 2: 0.160000000000025}, 'average_speed': {0: nan, 1: nan, 2: nan}, 'average_acceleration': {0: None, 1: None, 2: None}, 'direction': {0: nan, 1: 180.0, 2: 180.0}, 'stopped': {0: None, 1: None, 2: None}}\n"
     ]
    }
   ],
   "source": [
    "for aid in distdic.keys():\n",
    "    print(distdic[aid].to_dict())"
   ]
  },
  {
   "cell_type": "code",
   "execution_count": 32,
   "metadata": {},
   "outputs": [
    {
     "name": "stdout",
     "output_type": "stream",
     "text": [
      "{'time': {0: 1, 1: 2, 2: 3, 3: 1, 4: 2, 5: 3, 6: 1, 7: 2, 8: 3, 9: 1, 10: 2, 11: 3, 12: 1, 13: 2, 14: 3}, 'animal_id': {0: 312, 1: 312, 2: 312, 3: 511, 4: 511, 5: 511, 6: 607, 7: 607, 8: 607, 9: 811, 10: 811, 11: 811, 12: 905, 13: 905, 14: 905}, 'x': {0: 405.29, 1: 405.31, 2: 405.31, 3: 369.99, 4: 370.01, 5: 370.01, 6: 390.33, 7: 390.25, 8: 390.17, 9: 445.15, 10: 445.48, 11: 445.77, 12: 366.06, 13: 365.86, 14: 365.7}, 'y': {0: 417.76, 1: 417.37, 2: 417.07, 3: 428.78, 4: 428.82, 5: 428.85, 6: 405.89, 7: 405.89, 8: 405.88, 9: 411.94, 10: 412.26, 11: 412.61, 12: 451.76, 13: 451.76, 14: 451.76}, 'distance': {0: None, 1: None, 2: None, 3: None, 4: None, 5: None, 6: None, 7: None, 8: None, 9: None, 10: None, 11: None, 12: None, 13: None, 14: None}, 'average_speed': {0: None, 1: None, 2: None, 3: None, 4: None, 5: None, 6: None, 7: None, 8: None, 9: None, 10: None, 11: None, 12: None, 13: None, 14: None}, 'average_acceleration': {0: None, 1: None, 2: None, 3: None, 4: None, 5: None, 6: None, 7: None, 8: None, 9: None, 10: None, 11: None, 12: None, 13: None, 14: None}, 'direction': {0: None, 1: None, 2: None, 3: None, 4: None, 5: None, 6: None, 7: None, 8: None, 9: None, 10: None, 11: None, 12: None, 13: None, 14: None}, 'stopped': {0: None, 1: None, 2: None, 3: None, 4: None, 5: None, 6: None, 7: None, 8: None, 9: None, 10: None, 11: None, 12: None, 13: None, 14: None}}\n"
     ]
    }
   ],
   "source": [
    "print(regrouping_data(dict_groups).to_dict())"
   ]
  },
  {
   "cell_type": "code",
   "execution_count": 11,
   "metadata": {},
   "outputs": [],
   "source": [
    "path = \"data/regroups.csv\"\n",
    "dat = mkit.read_data(path)"
   ]
  },
  {
   "cell_type": "code",
   "execution_count": 12,
   "metadata": {},
   "outputs": [
    {
     "data": {
      "text/plain": [
       "array(['time', 'animal_id', 'x', 'y', 'distance', 'average_speed',\n",
       "       'average_acceleration', 'direction'], dtype=object)"
      ]
     },
     "execution_count": 12,
     "metadata": {},
     "output_type": "execute_result"
    }
   ],
   "source": [
    "dat.columns.values"
   ]
  },
  {
   "cell_type": "code",
   "execution_count": null,
   "metadata": {},
   "outputs": [],
   "source": []
  },
  {
   "cell_type": "code",
   "execution_count": 25,
   "metadata": {},
   "outputs": [
    {
     "name": "stdout",
     "output_type": "stream",
     "text": [
      "[0, 0, 0, 0, 0, 0, 0, 0, 0, 0, 0, 0, 0, 0]\n"
     ]
    }
   ],
   "source": [
    "print(list(dat.loc[0:2, \"direction\"]))"
   ]
  },
  {
   "cell_type": "code",
   "execution_count": 8,
   "metadata": {},
   "outputs": [],
   "source": [
    "inp_data = {\n",
    "\"time\":[1, 1, 1, 1, 1, 2, 2, 2, 2, 2, 3, 3, 3, 3, 3],\n",
    "\"animal_id\":[312, 511, 607, 811, 905, 511, 811, 312, 905, 607, 312, 511, 607, 811, 905],\n",
    "\"x\":[405.29, 369.99, 390.33, 445.15, 366.06, 370.01, 445.48, 405.31, 365.86, 390.25, 405.31, 370.01,\n",
    "390.17, 445.77, 365.7],\n",
    "\"y\": [417.76, 428.78, 405.89, 411.94, 451.76, 428.82, 412.26, 417.37, 451.76, 405.89, 417.07, 428.85, 405.88, \n",
    "412.61, 451.76]\n",
    "}"
   ]
  },
  {
   "cell_type": "code",
   "execution_count": 9,
   "metadata": {},
   "outputs": [],
   "source": [
    "inp = pd.DataFrame(inp_data)"
   ]
  },
  {
   "cell_type": "code",
   "execution_count": 45,
   "metadata": {},
   "outputs": [],
   "source": [
    "groups = grouping_data(inp)"
   ]
  },
  {
   "cell_type": "code",
   "execution_count": 44,
   "metadata": {},
   "outputs": [
    {
     "data": {
      "text/plain": [
       "{'time': {0: 1, 1: 2, 2: 3},\n",
       " 'animal_id': {0: 312, 1: 312, 2: 312},\n",
       " 'x': {0: 405.29, 1: 405.31, 2: 405.31},\n",
       " 'y': {0: 417.76, 1: 417.37, 2: 417.07},\n",
       " 'distance': {0: None, 1: None, 2: None},\n",
       " 'average_speed': {0: None, 1: None, 2: None},\n",
       " 'average_acceleration': {0: None, 1: None, 2: None},\n",
       " 'direction': {0: None, 1: None, 2: None},\n",
       " 'stopped': {0: None, 1: None, 2: None}}"
      ]
     },
     "execution_count": 44,
     "metadata": {},
     "output_type": "execute_result"
    }
   ],
   "source": [
    "grouping_data(inp)[312].to_dict()"
   ]
  },
  {
   "cell_type": "code",
   "execution_count": 5,
   "metadata": {},
   "outputs": [],
   "source": [
    "ref_data = {312: pd.DataFrame({'time': {0: 1, 1: 2, 2: 3}, 'animal_id': {0: 312, 1: 312, 2: 312}, \n",
    "'x': {0: 405.29, 1: 405.31, 2: 405.31},\n",
    "'y': {0: 417.76, 1: 417.37, 2: 417.07}, 'distance': {0: None, 1: None, 2: None},\n",
    "'average_speed': {0: None, 1: None, 2: None}, 'average_acceleration': {0: None, 1: None, 2: None},\n",
    "'direction': {0: None, 1: None, 2: None}, 'stopped': {0: None, 1: None, 2: None}}),\n",
    "511: pd.DataFrame({'time': {0: 1, 1: 2, 2: 3}, 'animal_id': {0: 511, 1: 511, 2: 511}, \n",
    "'x': {0: 369.99, 1: 370.01, 2: 370.01},\n",
    "'y': {0: 428.78, 1: 428.82, 2: 428.85}, 'distance': {0: None, 1: None, 2: None},\n",
    "'average_speed': {0: None, 1: None, 2: None}, 'average_acceleration': {0: None, 1: None, 2: None},\n",
    "'direction': {0: None, 1: None, 2: None}, 'stopped': {0: None, 1: None, 2: None}}),\n",
    "607: pd.DataFrame({'time': {0: 1, 1: 2, 2: 3}, 'animal_id': {0: 607, 1: 607, 2: 607}, \n",
    "'x': {0: 390.33, 1: 390.25, 2: 390.17},\n",
    "'y': {0: 405.89, 1: 405.89, 2: 405.88}, 'distance': {0: None, 1: None, 2: None},\n",
    "'average_speed': {0: None, 1: None, 2: None}, 'average_acceleration': {0: None, 1: None, 2: None},\n",
    "'direction': {0: None, 1: None, 2: None}, 'stopped': {0: None, 1: None, 2: None}}),\n",
    "811: pd.DataFrame({'time': {0: 1, 1: 2, 2: 3}, 'animal_id': {0: 811, 1: 811, 2: 811}, \n",
    "'x': {0: 445.15, 1: 445.48, 2: 445.77},\n",
    "'y': {0: 411.94, 1: 412.26, 2: 412.61}, 'distance': {0: None, 1: None, 2: None},\n",
    "'average_speed': {0: None, 1: None, 2: None}, 'average_acceleration': {0: None, 1: None, 2: None},\n",
    "'direction': {0: None, 1: None, 2: None}, 'stopped': {0: None, 1: None, 2: None}}),\n",
    "905: pd.DataFrame({'time': {0: 1, 1: 2, 2: 3}, 'animal_id': {0: 905, 1: 905, 2: 905}, \n",
    "'x': {0: 366.06, 1: 365.86, 2: 365.7},\n",
    "'y': {0: 451.76, 1: 451.76, 2: 451.76}, 'distance': {0: None, 1: None, 2: None},\n",
    "'average_speed': {0: None, 1: None, 2: None}, 'average_acceleration': {0: None, 1: None, 2: None},\n",
    "'direction': {0: None, 1: None, 2: None}, 'stopped': {0: None, 1: None, 2: None}})}"
   ]
  },
  {
   "cell_type": "code",
   "execution_count": 10,
   "metadata": {},
   "outputs": [
    {
     "ename": "ValueError",
     "evalue": "Can only compare identically-labeled DataFrame objects",
     "output_type": "error",
     "traceback": [
      "\u001b[1;31m---------------------------------------------------------------------------\u001b[0m",
      "\u001b[1;31mValueError\u001b[0m                                Traceback (most recent call last)",
      "\u001b[1;32m<ipython-input-10-8a72035e7c33>\u001b[0m in \u001b[0;36m<module>\u001b[1;34m\u001b[0m\n\u001b[1;32m----> 1\u001b[1;33m \u001b[0mregrouping_data\u001b[0m\u001b[1;33m(\u001b[0m\u001b[0mref_data\u001b[0m\u001b[1;33m)\u001b[0m \u001b[1;33m==\u001b[0m \u001b[0minp\u001b[0m\u001b[1;33m\u001b[0m\u001b[1;33m\u001b[0m\u001b[0m\n\u001b[0m",
      "\u001b[1;32m~\\Anaconda3\\lib\\site-packages\\pandas\\core\\ops.py\u001b[0m in \u001b[0;36mf\u001b[1;34m(self, other)\u001b[0m\n\u001b[0;32m   1611\u001b[0m             \u001b[1;31m# Another DataFrame\u001b[0m\u001b[1;33m\u001b[0m\u001b[1;33m\u001b[0m\u001b[1;33m\u001b[0m\u001b[0m\n\u001b[0;32m   1612\u001b[0m             \u001b[1;32mif\u001b[0m \u001b[1;32mnot\u001b[0m \u001b[0mself\u001b[0m\u001b[1;33m.\u001b[0m\u001b[0m_indexed_same\u001b[0m\u001b[1;33m(\u001b[0m\u001b[0mother\u001b[0m\u001b[1;33m)\u001b[0m\u001b[1;33m:\u001b[0m\u001b[1;33m\u001b[0m\u001b[1;33m\u001b[0m\u001b[0m\n\u001b[1;32m-> 1613\u001b[1;33m                 raise ValueError('Can only compare identically-labeled '\n\u001b[0m\u001b[0;32m   1614\u001b[0m                                  'DataFrame objects')\n\u001b[0;32m   1615\u001b[0m             \u001b[1;32mreturn\u001b[0m \u001b[0mself\u001b[0m\u001b[1;33m.\u001b[0m\u001b[0m_compare_frame\u001b[0m\u001b[1;33m(\u001b[0m\u001b[0mother\u001b[0m\u001b[1;33m,\u001b[0m \u001b[0mfunc\u001b[0m\u001b[1;33m,\u001b[0m \u001b[0mstr_rep\u001b[0m\u001b[1;33m)\u001b[0m\u001b[1;33m\u001b[0m\u001b[1;33m\u001b[0m\u001b[0m\n",
      "\u001b[1;31mValueError\u001b[0m: Can only compare identically-labeled DataFrame objects"
     ]
    }
   ],
   "source": [
    "regrouping_data(ref_data) == inp"
   ]
  },
  {
   "cell_type": "code",
   "execution_count": 65,
   "metadata": {},
   "outputs": [
    {
     "name": "stdout",
     "output_type": "stream",
     "text": [
      "{312:    time  animal_id       x       y distance average_speed  \\\n",
      "0     1        312  405.29  417.76     None          None   \n",
      "1     2        312  405.31  417.37     None          None   \n",
      "2     3        312  405.31  417.07     None          None   \n",
      "\n",
      "  average_acceleration direction stopped  \n",
      "0                 None      None    None  \n",
      "1                 None      None    None  \n",
      "2                 None      None    None  , 511:    time  animal_id       x       y distance average_speed  \\\n",
      "0     1        511  369.99  428.78     None          None   \n",
      "1     2        511  370.01  428.82     None          None   \n",
      "2     3        511  370.01  428.85     None          None   \n",
      "\n",
      "  average_acceleration direction stopped  \n",
      "0                 None      None    None  \n",
      "1                 None      None    None  \n",
      "2                 None      None    None  , 607:    time  animal_id       x       y distance average_speed  \\\n",
      "0     1        607  390.33  405.89     None          None   \n",
      "1     2        607  390.25  405.89     None          None   \n",
      "2     3        607  390.17  405.88     None          None   \n",
      "\n",
      "  average_acceleration direction stopped  \n",
      "0                 None      None    None  \n",
      "1                 None      None    None  \n",
      "2                 None      None    None  , 811:    time  animal_id       x       y distance average_speed  \\\n",
      "0     1        811  445.15  411.94     None          None   \n",
      "1     2        811  445.48  412.26     None          None   \n",
      "2     3        811  445.77  412.61     None          None   \n",
      "\n",
      "  average_acceleration direction stopped  \n",
      "0                 None      None    None  \n",
      "1                 None      None    None  \n",
      "2                 None      None    None  , 905:    time  animal_id       x       y distance average_speed  \\\n",
      "0     1        905  366.06  451.76     None          None   \n",
      "1     2        905  365.86  451.76     None          None   \n",
      "2     3        905  365.70  451.76     None          None   \n",
      "\n",
      "  average_acceleration direction stopped  \n",
      "0                 None      None    None  \n",
      "1                 None      None    None  \n",
      "2                 None      None    None  }\n"
     ]
    }
   ],
   "source": []
  },
  {
   "cell_type": "code",
   "execution_count": 58,
   "metadata": {},
   "outputs": [
    {
     "data": {
      "text/plain": [
       "[312, 511, 607, 811, 905]"
      ]
     },
     "execution_count": 58,
     "metadata": {},
     "output_type": "execute_result"
    }
   ],
   "source": [
    "[*groups]"
   ]
  },
  {
   "cell_type": "code",
   "execution_count": 60,
   "metadata": {},
   "outputs": [
    {
     "name": "stdout",
     "output_type": "stream",
     "text": [
      "{'time': {0: 1, 1: 2, 2: 3}, 'animal_id': {0: 312, 1: 312, 2: 312}, 'x': {0: 405.29, 1: 405.31, 2: 405.31}, 'y': {0: 417.76, 1: 417.37, 2: 417.07}, 'distance': {0: None, 1: None, 2: None}, 'average_speed': {0: None, 1: None, 2: None}, 'average_acceleration': {0: None, 1: None, 2: None}, 'direction': {0: None, 1: None, 2: None}, 'stopped': {0: None, 1: None, 2: None}}\n",
      "{'time': {0: 1, 1: 2, 2: 3}, 'animal_id': {0: 511, 1: 511, 2: 511}, 'x': {0: 369.99, 1: 370.01, 2: 370.01}, 'y': {0: 428.78, 1: 428.82, 2: 428.85}, 'distance': {0: None, 1: None, 2: None}, 'average_speed': {0: None, 1: None, 2: None}, 'average_acceleration': {0: None, 1: None, 2: None}, 'direction': {0: None, 1: None, 2: None}, 'stopped': {0: None, 1: None, 2: None}}\n",
      "{'time': {0: 1, 1: 2, 2: 3}, 'animal_id': {0: 607, 1: 607, 2: 607}, 'x': {0: 390.33, 1: 390.25, 2: 390.17}, 'y': {0: 405.89, 1: 405.89, 2: 405.88}, 'distance': {0: None, 1: None, 2: None}, 'average_speed': {0: None, 1: None, 2: None}, 'average_acceleration': {0: None, 1: None, 2: None}, 'direction': {0: None, 1: None, 2: None}, 'stopped': {0: None, 1: None, 2: None}}\n",
      "{'time': {0: 1, 1: 2, 2: 3}, 'animal_id': {0: 811, 1: 811, 2: 811}, 'x': {0: 445.15, 1: 445.48, 2: 445.77}, 'y': {0: 411.94, 1: 412.26, 2: 412.61}, 'distance': {0: None, 1: None, 2: None}, 'average_speed': {0: None, 1: None, 2: None}, 'average_acceleration': {0: None, 1: None, 2: None}, 'direction': {0: None, 1: None, 2: None}, 'stopped': {0: None, 1: None, 2: None}}\n",
      "{'time': {0: 1, 1: 2, 2: 3}, 'animal_id': {0: 905, 1: 905, 2: 905}, 'x': {0: 366.06, 1: 365.86, 2: 365.7}, 'y': {0: 451.76, 1: 451.76, 2: 451.76}, 'distance': {0: None, 1: None, 2: None}, 'average_speed': {0: None, 1: None, 2: None}, 'average_acceleration': {0: None, 1: None, 2: None}, 'direction': {0: None, 1: None, 2: None}, 'stopped': {0: None, 1: None, 2: None}}\n"
     ]
    }
   ],
   "source": [
    "for aid in [*groups]:\n",
    "    print(groups[aid].to_dict())"
   ]
  },
  {
   "cell_type": "code",
   "execution_count": 40,
   "metadata": {},
   "outputs": [
    {
     "ename": "SyntaxError",
     "evalue": "invalid syntax (<ipython-input-40-1cc5ff16eb07>, line 1)",
     "output_type": "error",
     "traceback": [
      "\u001b[1;36m  File \u001b[1;32m\"<ipython-input-40-1cc5ff16eb07>\"\u001b[1;36m, line \u001b[1;32m1\u001b[0m\n\u001b[1;33m    testdic = {312:    time  animal_id       x       y distance average_speed  \\\u001b[0m\n\u001b[1;37m                                     ^\u001b[0m\n\u001b[1;31mSyntaxError\u001b[0m\u001b[1;31m:\u001b[0m invalid syntax\n"
     ]
    }
   ],
   "source": [
    "testdic = {312:    time  animal_id       x       y distance average_speed  \\\n",
    " 0     1        312  405.29  417.76     None          None   \n",
    " 1     2        312  405.31  417.37     None          None   \n",
    " 2     3        312  405.31  417.07     None          None   \n",
    " \n",
    "   average_acceleration direction stopped  \n",
    " 0                 None      None    None  \n",
    " 1                 None      None    None  \n",
    " 2                 None      None    None  ,\n",
    " 511:    time  animal_id       x       y distance average_speed  \\\n",
    " 0     1        511  369.99  428.78     None          None   \n",
    " 1     2        511  370.01  428.82     None          None   \n",
    " 2     3        511  370.01  428.85     None          None   \n",
    " \n",
    "   average_acceleration direction stopped  \n",
    " 0                 None      None    None  \n",
    " 1                 None      None    None  \n",
    " 2                 None      None    None  ,\n",
    " 607:    time  animal_id       x       y distance average_speed  \\\n",
    " 0     1        607  390.33  405.89     None          None   \n",
    " 1     2        607  390.25  405.89     None          None   \n",
    " 2     3        607  390.17  405.88     None          None   \n",
    " \n",
    "   average_acceleration direction stopped  \n",
    " 0                 None      None    None  \n",
    " 1                 None      None    None  \n",
    " 2                 None      None    None  ,\n",
    " 811:    time  animal_id       x       y distance average_speed  \\\n",
    " 0     1        811  445.15  411.94     None          None   \n",
    " 1     2        811  445.48  412.26     None          None   \n",
    " 2     3        811  445.77  412.61     None          None   \n",
    " \n",
    "   average_acceleration direction stopped  \n",
    " 0                 None      None    None  \n",
    " 1                 None      None    None  \n",
    " 2                 None      None    None  ,\n",
    " 905:    time  animal_id       x       y distance average_speed  \\\n",
    " 0     1        905  366.06  451.76     None          None   \n",
    " 1     2        905  365.86  451.76     None          None   \n",
    " 2     3        905  365.70  451.76     None          None   \n",
    " \n",
    "   average_acceleration direction stopped  \n",
    " 0                 None      None    None  \n",
    " 1                 None      None    None  \n",
    " 2                 None      None    None  }"
   ]
  },
  {
   "cell_type": "code",
   "execution_count": null,
   "metadata": {},
   "outputs": [],
   "source": []
  }
 ],
 "metadata": {
  "kernelspec": {
   "display_name": "Python 3",
   "language": "python",
   "name": "python3"
  },
  "language_info": {
   "codemirror_mode": {
    "name": "ipython",
    "version": 3
   },
   "file_extension": ".py",
   "mimetype": "text/x-python",
   "name": "python",
   "nbconvert_exporter": "python",
   "pygments_lexer": "ipython3",
   "version": "3.7.4"
  }
 },
 "nbformat": 4,
 "nbformat_minor": 2
}
